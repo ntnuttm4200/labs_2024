{
 "cells": [
  {
   "cell_type": "markdown",
   "metadata": {
    "tags": []
   },
   "source": [
    "### Instructions\n",
    "Throughout the course, you need to complete tasks in the Jupyter notebooks. Every notebook has a compiled python script to check your answers. Run the following cell to import the script at the beginning of each lab. You can run the cell by clicking on the \"Run\" button in the toolbar or pressing `Shift+Enter`."
   ]
  },
  {
   "cell_type": "code",
   "execution_count": null,
   "metadata": {},
   "outputs": [],
   "source": [
    "from test_lab0 import TestLab0\n",
    "check_progress = TestLab0()"
   ]
  },
  {
   "cell_type": "markdown",
   "metadata": {},
   "source": [
    "After each task, there is a function that checks your answer. You need to run this function after completing the task. Show your TA that you have completed each milestone successfully. The TA will check your progress and give you feedback."
   ]
  },
  {
   "cell_type": "markdown",
   "metadata": {
    "tags": []
   },
   "source": [
    "# Milestone 2 -- Introduction to Linux\n"
   ]
  },
  {
   "cell_type": "markdown",
   "metadata": {
    "tags": []
   },
   "source": [
    "### 2.1 Linux file system\n",
    "\n",
    "Let's start by exploring the Linux file system. The file system is a hierarchical structure that organizes files and directories. The root directory is the top directory in the file system. It is denoted by a forward slash `/`. The root directory contains all other directories and files. [Figure 1](#figure_1) shows the main directories in the Linux file system on your VM.\n",
    "\n",
    "<a id='figure_1'></a>\n",
    "\n",
    "|<img src=\"figures/linux_file_system.png\" width=\"1000\" height=\"1000\" />|\n",
    "|:--:| \n",
    "| *Figure 1: Main directories in the Linux file system* |\n",
    "\n",
    ">_**Optional:** check the [LinuxFilesystemTreeOverview](https://help.ubuntu.com/community/LinuxFilesystemTreeOverview#Main_directories) for more information about each directory._\n",
    "\n",
    "Linux is a multi-user operating system, which means that it can be used by multiple users at the same time. Each user has its own home directory, which is a directory that is used to store the user's files. The VM image that you are using has a user named \"ttm4200\" with the home directory \"/home/ttm4200\". When you open a terminal, you will automatically start at your home directory. \n",
    "\n",
    "The following sections introduce some of the basic Linux commands, but you should explore other commands yourself. You should use the command `man <command>` to get more information about a command. For example, to get more information about the `ls` command, you can run `man ls` in the terminal.\n",
    "\n",
    ">_**Optional:** If you find the `man` command difficult to read, you can use the `tldr` command. It is a simplified version of the `man` command. For example, to get more information about the `ls` command, you can run `tldr ls` in the terminal. You can install it using the command `sudo apt install tldr && tldr --update`._\n",
    "\n",
    "> _**Optional:** If you want to learn more about the shell and other commands, we **highly** recommend this [tutorial](https://missing.csail.mit.edu/2020/course-shell/)._"
   ]
  },
  {
   "cell_type": "markdown",
   "metadata": {},
   "source": [
    "### 2.2 Navigating the file system\n",
    "\n",
    "To navigate the file system, you can use the following commands:\n",
    "\n",
    "* `pwd` (_print working directory_): prints the path of the current directory you are in. Each time you interact with the terminal, you are in a specific directory. This command will show you the path of this directory.\n",
    "\n",
    "* `ls` (_list_): lists the content of the current directory.\n",
    "\n",
    "* `cd <directory>` (_change directory_): changes the current directory to the specified `<directory>`.\n",
    "\n",
    ">_**Optional:** To quickly get an overview of a directory structure in the terminal, you can use the `tree` command. You can install it using the command `sudo apt install tree`. Then you can use it to show the directory structure: `tree <directory>`. For more information, check this [tutorial](https://www.linuxfoundation.org/blog/blog/classic-sysadmin-the-linux-filesystem-explained)._\n",
    "\n",
    "**Task: Change working directory to the directory \"~labs/00-lab0\" and list the contents of the directory.**\n",
    "\n",
    "* **How many files and directories are in the directory \"~/labs/00-lab0\"? Write the number in the cell below.**\n",
    "\n",
    "* **What is the path of the file \"test_lab0.pyc\"? Write the absolute path with respect to the root directory in the cell below.**"
   ]
  },
  {
   "cell_type": "code",
   "execution_count": null,
   "metadata": {},
   "outputs": [],
   "source": [
    "# How many files and directories are in the directory \"~/labs/00-lab0\"? \n",
    "number_of_files_and_dirs =  # your answer (as integer)\n",
    "\n",
    "#What is the path of the file \"test_lab0.pyc\"? \n",
    "path_to_test_lab0_pyc =  # your answer (as string)\n",
    "\n",
    "check_progress.test_2_2(number_of_files_and_dirs, path_to_test_lab0_pyc)"
   ]
  },
  {
   "cell_type": "markdown",
   "metadata": {},
   "source": [
    "### 2.3 Creating files and directories\n",
    "\n",
    "* `mkdir <directory>` (_make directory_): creates a new directory with the specified `<directory>` name.\n",
    "\n",
    "* `touch <file>` (_create file_): creates a new file with the specified `<file>` name.\n",
    "\n",
    "**Task: Create a new directory named \"TestFolder\" inside \"/home/ttm4200\" and create a new file named \"TestFile.txt\" inside the directory \"TestFolder\".**"
   ]
  },
  {
   "cell_type": "code",
   "execution_count": null,
   "metadata": {},
   "outputs": [],
   "source": [
    "check_progress.test_2_3()"
   ]
  },
  {
   "cell_type": "markdown",
   "metadata": {},
   "source": [
    "### 2.4 Viewing and editing files\n",
    "\n",
    "* `cat <file>` (_concatenate_): prints the content of the specified `<file>`.\n",
    "\n",
    "* `nano <file>` (_text editor_): opens the specified `<file>` in the text editor. After you finish editing the file, press `Ctrl+X` to save the changes and exit the text editor. Type `Y` to confirm the changes or `N` to cancel the changes.\n",
    "\n",
    ">_**Optional:** You can also use the `vim` text editor. To open a file in the `vim` text editor, run `vim <file>`. To save the changes and exit the text editor, press `Esc` and then type `:wq` and press `Enter`. To cancel the changes, press `Esc` and then type `:q!` and press `Enter`. For more information, check this [link](https://missing.csail.mit.edu/2020/editors/)._\n",
    "\n",
    "**Task: Edit the file \"TestFile.txt\" and and add whatever you want in it. Then print the content of the file. What is the first line of the file?**"
   ]
  },
  {
   "cell_type": "code",
   "execution_count": null,
   "metadata": {},
   "outputs": [],
   "source": [
    "#What is the first line of the content?\n",
    "first_line =  # Your answer  (as string)\n",
    "\n",
    "check_progress.test_2_4(first_line)"
   ]
  },
  {
   "cell_type": "markdown",
   "metadata": {},
   "source": [
    "### 2.5 Searching/filtering files\n",
    "\n",
    "* `grep <pattern> <file>` (_global regular expression print_): searches for the specified `<pattern>` in the specified `<file>` and prints the lines that contain the `<pattern>`.\n",
    "\n",
    "* `find <directory> -name <pattern>` (_find_): searches for the specified `<pattern>` in the specified `<directory>` and prints the paths of the files that match the `<pattern>`. The `<pattern>` can be a file name or other expressions. For example, you can use the expression `*.txt` to search for all files with the extension \".txt\".\n",
    "\n",
    "* `|` (_pipe_): connects the output of one command to the input of another command. For example, you can use the command `grep <pattern> <file> | wc -l` to count the number of lines that contain the specified `<pattern>` in the specified `<file>`. Another example is `cat <file> | md5sum` to calculate the MD5 hash of the specified `<file>`. This is essentially putting the output of the `cat` command as the input of the `md5sum` command.\n",
    "\n",
    "**Task: calculate the MD5 hash of the file \"TestFile.txt\".**\n"
   ]
  },
  {
   "cell_type": "code",
   "execution_count": null,
   "metadata": {},
   "outputs": [],
   "source": [
    "#What is the md5 checksum of the content of TestFile.txt?\n",
    "md5_checksum =  # Your answer (as hex string)\n",
    "check_progress.test_2_5(md5_checksum)"
   ]
  },
  {
   "cell_type": "markdown",
   "metadata": {
    "tags": []
   },
   "source": [
    "### 2.6 Copying and moving files/directories\n",
    "\n",
    "* `cp <source> <destination>` (_copy_): copies the specified `<source>` file to the specified `<destination>` file.\n",
    "\n",
    "* `cp -r <source> <destination>` (_copy recursively_): copies the specified `<source>` directory to the specified `<destination>` directory.\n",
    "\n",
    "* `mv <source> <destination>` (_move_): moves the specified `<source>` file/directory to the specified `<destination>` file/directory. This command can also be used to rename a file/directory.\n",
    "\n",
    "**Task: move the file \"TestFile.txt\" to a new directory named \"NewTestFolder\" inside \"/home/ttm4200\", and name the file \"NewTestFile.txt\".** "
   ]
  },
  {
   "cell_type": "code",
   "execution_count": null,
   "metadata": {},
   "outputs": [],
   "source": [
    "check_progress.test_2_6()"
   ]
  },
  {
   "cell_type": "markdown",
   "metadata": {},
   "source": [
    "### 2.7 Deleting files/directories\n",
    "\n",
    "* `rm <file>` (_remove_): deletes the specified `<file>`.\n",
    "\n",
    "* `rm -r <directory>` (_remove recursively_): deletes the specified `<directory>` and all its content.\n",
    "\n",
    "**Task: delete the directories you created in the previous tasks: \"TestFolder\" and \"NewTestFolder\".**"
   ]
  },
  {
   "cell_type": "code",
   "execution_count": null,
   "metadata": {},
   "outputs": [],
   "source": [
    "check_progress.test_2_7()"
   ]
  },
  {
   "cell_type": "markdown",
   "metadata": {},
   "source": [
    "### 2.8 Zipping and unzipping files/directories\n",
    "\n",
    "* `zip <zipfile> <file>`: zips the specified `<file>` to the specified `<zipfile>`.\n",
    "\n",
    "* `unzip <zipfile>`: unzips the specified `<zipfile>`."
   ]
  },
  {
   "cell_type": "markdown",
   "metadata": {
    "tags": []
   },
   "source": [
    "# Milestone 3 -- Linux Permissions\n",
    "\n",
    "Linux file permissions control who can access a file or directory and what they can do with it. \n",
    "\n",
    "### 3.1 Permission types\n",
    "\n",
    "There are three types of permissions:\n",
    "\n",
    "- **read (r)**: allows reading the content of the file/directory.\n",
    "\n",
    "- **write (w)**: allows modifying the content of the file/directory.\n",
    "\n",
    "- **execute (x)**: allows executing the file/directory.\n",
    "\n",
    "### 3.2 Permission groups\n",
    "\n",
    "Each type of permission can be granted to the **owner** of the file/directory, the **group** of the file/directory, and **others** (other users). Figure 2 summarizes the possible permissions for the owner, group, and others.\n",
    "\n",
    "\n",
    "<a id='figure_2'></a>\n",
    "\n",
    "|<img src=\"figures/linux_file_permissions.png\" width=\"500\" height=\"500\" />|\n",
    "|:--:| \n",
    "| *Figure 2: Linux File Permissions* |\n",
    "\n",
    "\n",
    "To check the permissions of a file/directory, run the command `ls -l <file/directory>`. For example, the output of the command `ls -lh tasks.ipynb` is shown in [figure 3](#figure_3).\n",
    "<a id='figure_3'></a>\n",
    "\n",
    "|<img src=\"figures/linux_file_system_2.png\" width=\"1000\" height=\"1000\" />|\n",
    "|:--:| \n",
    "| *Figure 3: Linux File Permissions. The file type is `-` (regular file) but it can be `d` (directory). The permissions are `rw-rw-r--` (read and write for the owner; read and write for the group; read for others).|\n",
    "\n",
    "\n",
    "### 3.3 User and groups\n",
    "\n",
    "When you log in to the Linux system, you are logged in as a specific user.  To check the name of the current user, run the command `whoami`. Each user belongs to a group. The group of a user can be checked by running the command `groups`. \n",
    "\n",
    "**Task: check the name of the current user and the groups of the current user. What is the name of the current user? How many groups does the current user belong to?**"
   ]
  },
  {
   "cell_type": "code",
   "execution_count": null,
   "metadata": {},
   "outputs": [],
   "source": [
    "user_name =  # Your answer (as string)\n",
    "\n",
    "n_groups = # Your answer (as integer)\n",
    "\n",
    "check_progress.test_3_3(user_name, n_groups)"
   ]
  },
  {
   "cell_type": "markdown",
   "metadata": {
    "tags": []
   },
   "source": [
    "### 3.4 Changing file permissions\n",
    "\n",
    "To change the permissions of a file/directory, run the command `chmod <permissions> <file/directory>`. For example, to change the permissions of the file \"TestFile.txt\" to `rw-rw-r--`, run the command `chmod 664 TestFile.txt`. The permissions are specified as a three-digit number. The first digit specifies the permissions for the owner, the second digit specifies the permissions for the group, and the third digit specifies the permissions for others. The digits can be 0, 1, 2, 3, 4, 5, 6, 7. The digits 0, 1, 2, 3, 4, 5, 6, 7 correspond to the permissions `---`, `--x`, `-w-`, `-wx`, `r--`, `r-x`, `rw-`, `rwx`, respectively.\n",
    "\n",
    "**Task: create a file using the command `sudo touch ~/TestFile2.txt`. Check the permissions of the file \"~/TestFile2.txt\". What is the permissions of the file \"TestFile2.txt\" in octal (three-digit) format? What is the permissions of the file \"TestFile2.txt\" in symbolic format?**"
   ]
  },
  {
   "cell_type": "code",
   "execution_count": null,
   "metadata": {},
   "outputs": [],
   "source": [
    "file_permission_octal =   # Your answer (as integer)\n",
    "\n",
    "file_permission_symbolic = # Your answer (as string)\n",
    "\n",
    "check_progress.test_3_4(file_permission_octal, file_permission_symbolic)"
   ]
  },
  {
   "cell_type": "markdown",
   "metadata": {
    "tags": []
   },
   "source": [
    "### 3.5 Changing file ownership\n",
    "\n",
    "To change the ownership of a file/directory, run the command `chown <user>:<group> <file/directory>`. For example, to change the ownership of the file \"TestFile.txt\" to the user \"ttm4200\" and the group \"ttm4200\", run the command `chown ttm4200:ttm4200 TestFile.txt`."
   ]
  },
  {
   "cell_type": "markdown",
   "metadata": {},
   "source": [
    "### 3.6 Sudo and su\n",
    "\n",
    "The command `sudo` (_superuser do_) allows you to run a command as the superuser. For example, to delete the file \"TestFile.txt\", run the command `sudo rm TestFile.txt`. This command is useful when working with files/directories that you do not have the permission to modify. The command `su` (_switch user_) allows you to switch to another user. For example, to switch to the superuser, run the command `sudo su root`.\n",
    "\n",
    "**Task: Switch to the root user and create a file named \"test.txt\" in the directory \"/home/ttm4200\". Then, switch back to the user \"ttm4200\". Check the ownership of the file \"test.txt\". Who is the owner of the file? What is the group of the file?**"
   ]
  },
  {
   "cell_type": "code",
   "execution_count": null,
   "metadata": {},
   "outputs": [],
   "source": [
    "\n",
    "file_owner =  # Your answer (as string)\n",
    "\n",
    "file_group =  # Your answer (as string)\n",
    "\n",
    "check_progress.test_3_6( file_owner, file_group)"
   ]
  },
  {
   "cell_type": "markdown",
   "metadata": {},
   "source": [
    "### 3.7 Other useful commands\n",
    "\n",
    "* `wget <url>`: downloads the file from the specified `<url>`.\n",
    "\n",
    "* `echo <text>`: prints the specified `<text>` to the terminal.\n",
    "\n",
    "* `jobs`: lists the running jobs.\n",
    "\n",
    "* `fg %<job_number>`: brings the job with the specified `<job_number>` to the foreground.\n",
    "\n",
    "* `bg %<job_number>`: brings the job with the specified `<job_number>` to the background.\n",
    "\n",
    "* `kill %<job_number>`: kills the job with the specified `<job_number>`.\n",
    "\n",
    "* `ctrl + z`: sends the running job to the background.\n",
    "\n",
    "* `ctrl + c`: kills the running job."
   ]
  },
  {
   "cell_type": "markdown",
   "metadata": {},
   "source": [
    "\n",
    "# Milestone 4 -- Exercise: Capture the flag\n",
    "\n",
    "Start by reading the readme.txt file inside the CTF_TTM4200 folder. You will find flag 1 in the flag1 folder flag 2 in flag2 folder and so on."
   ]
  },
  {
   "cell_type": "markdown",
   "metadata": {
    "tags": []
   },
   "source": [
    "### FLAG 1"
   ]
  },
  {
   "cell_type": "code",
   "execution_count": null,
   "metadata": {},
   "outputs": [],
   "source": [
    "#flag1\n",
    "flag1 =  # Your answer (as a string)\n",
    "check_progress.check_flag1(flag1)"
   ]
  },
  {
   "cell_type": "markdown",
   "metadata": {},
   "source": [
    "### FLAG 2\n",
    "\n"
   ]
  },
  {
   "cell_type": "code",
   "execution_count": null,
   "metadata": {},
   "outputs": [],
   "source": [
    "#flag2\n",
    "flag2 =  # Your answer (as a string)\n",
    "check_progress.check_flag2(flag2)"
   ]
  },
  {
   "cell_type": "markdown",
   "metadata": {},
   "source": [
    "### FLAG 3\n",
    "\n",
    "Read the readme.txt inside flag3 folder for instructions."
   ]
  },
  {
   "cell_type": "code",
   "execution_count": null,
   "metadata": {},
   "outputs": [],
   "source": [
    "#flag3\n",
    "flag3 =  # Your answer (as a string)\n",
    "check_progress.check_flag3(flag3)"
   ]
  },
  {
   "cell_type": "markdown",
   "metadata": {},
   "source": [
    "### FLAG 4\n",
    "\n",
    "Run the python program and do the tasks to find flag. Use the command `python3 flag4.pyc` to run the program."
   ]
  },
  {
   "cell_type": "code",
   "execution_count": null,
   "metadata": {},
   "outputs": [],
   "source": [
    "#flag4\n",
    "flag4 =  # Your answer (as a string)\n",
    "check_progress.check_flag4(flag4)"
   ]
  },
  {
   "cell_type": "markdown",
   "metadata": {},
   "source": [
    "## Optional -- OverTheWire: Bandit\n",
    "\n",
    "If you are interested in learning more about Linux, you can try the [OverTheWire: Bandit](https://overthewire.org/wargames/bandit/) wargame. The wargame consists of 34 levels. In each level, you are given a username and password. You need to use the username and password to log in to the server, and then solve the level. The levels are ordered in increasing difficulty. You can try the first few levels to get a feel of the game. The game is very fun and educational. You can learn a lot about Linux and security by playing the game."
   ]
  },
  {
   "cell_type": "code",
   "execution_count": null,
   "metadata": {},
   "outputs": [],
   "source": []
  }
 ],
 "metadata": {
  "kernelspec": {
   "display_name": "Python 3 (ipykernel)",
   "language": "python",
   "name": "python3"
  },
  "language_info": {
   "codemirror_mode": {
    "name": "ipython",
    "version": 3
   },
   "file_extension": ".py",
   "mimetype": "text/x-python",
   "name": "python",
   "nbconvert_exporter": "python",
   "pygments_lexer": "ipython3",
   "version": "3.10.6"
  }
 },
 "nbformat": 4,
 "nbformat_minor": 4
}
