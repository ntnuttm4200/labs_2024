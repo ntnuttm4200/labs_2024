{
 "cells": [
  {
   "cell_type": "markdown",
   "id": "57a75dd1",
   "metadata": {
    "tags": []
   },
   "source": [
    "# Lab 4 Part 1 — Transport Layer (connectionless vs oriented)\n",
    "\n",
    "This lab aims to introduce you to the transport layer protocols. In particular, we will focus on the difference between connectionless and connection-oriented protocols. We will use TCP as an example of a connection-oriented protocol and UDP as an example of a connectionless protocol. You will analyze and compare the performance of these protocols under normal network conditions and when they are subject to packet loss, corruption, congestion, and delay.\n",
    "\n",
    "For delivery, submit a PDF report where you answer **only** those questions marked with a **REPORT:**."
   ]
  },
  {
   "cell_type": "markdown",
   "id": "2669609d-cd33-4daf-96da-10d87586ddbd",
   "metadata": {
    "tags": []
   },
   "source": [
    "## Lab Setup"
   ]
  },
  {
   "cell_type": "markdown",
   "id": "b4fc388a",
   "metadata": {},
   "source": [
    "[Figure 1](#figure_1) shows the topology of the lab. You will use the lab setup for the following scenarios:\n",
    "\n",
    "- Stream a video file from the \"server\" container.\n",
    "\n",
    "- Play the video stream from your local machine as the streaming client.\n",
    "\n",
    "- Manipulate the network traffic in the \"router\" container.\n",
    "\n",
    "\n",
    "<a id='figure_1'></a>\n",
    "\n",
    "|<img src=\"figures_2023/lab4_0.jpg\" width=\"75%\" />|\n",
    "|:--:|\n",
    "| *Figure 1: Lab4 System Setup* |\n",
    "\n",
    "- The topology in [Figure 1](#figure_1) is defined in the \"docker-compose.yml\" file.  Read the \"docker-compose.yml\" file to understand the lab setup. \n",
    "\n",
    "- **Stop and remove the containers and networks** created by the previous lab before starting this lab.\n",
    "  You can use the `docker-compose down` command or `docker stop` and `docker remove` (revisit the previous labs if needed)."
   ]
  },
  {
   "cell_type": "markdown",
   "id": "d251bf02",
   "metadata": {},
   "source": [
    "Install the following packages (if they're not installed yet) and build/start the containers from this lab:\n",
    "<div style=\"background: #f8f8f8; overflow:auto;width:auto;border:solid gray;border-width:.1em .1em .1em .8em;padding:.2em .6em;\"><pre style=\"margin: 0; line-height: 125%\">sudo apt-get install socat\n",
    "sudo apt-get install traceroute\n",
    "\n",
    "<span style=\"color: #008000\">cd</span> ~/labs/04-lab4\n",
    "docker-compose up -d --build\n",
    "</pre></div>\n",
    "\n",
    "<div class=\"alert alert-block alert-info\">\n",
    "<b>Tip:</b> Read the next steps while you wait for the build.</div>"
   ]
  },
  {
   "cell_type": "markdown",
   "id": "5861be17",
   "metadata": {},
   "source": [
    "- You will manipulate the network traffic in the \"router\" container.\n",
    "  To ensure that the traffic between the \"ntnu_server\" and the streaming server passes through the router, you will need to delete the direct connection between the \"ntnu_server\" and the streaming server.\n",
    "  Finally, you will need to add a route through the router container:\n",
    "  \n",
    "  <div style=\"background: #f8f8f8; overflow:auto;width:auto;border:solid gray;border-width:.1em .1em .1em .8em;padding:.2em .6em;\"><pre style=\"margin: 0; line-height: 125%\"><span style=\"color: #408080; font-style: italic\">#   On the &quot;ntnu_server&quot;</span>\n",
    "  ip route list <span style=\"color: #408080; font-style: italic\"># before</span>\n",
    "  sudo ip route del 10.20.30.0/29\n",
    "  ip route list <span style=\"color: #408080; font-style: italic\"># after 1</span>\n",
    "  sudo ip route add 10.20.30.0/29 via 10.20.40.3\n",
    "  ip route list <span style=\"color: #408080; font-style: italic\"># after 2</span>\n",
    "</pre></div>\n",
    "\n",
    "- Validate that the traffic between the \"ntnu_server\" and the streaming server passes through the router:\n",
    "\n",
    "  <div style=\"background: #f8f8f8; overflow:auto;width:auto;border:solid gray;border-width:.1em .1em .1em .8em;padding:.2em .6em;\"><pre style=\"margin: 0; line-height: 125%\"><span style=\"color: #408080; font-style: italic\">#  On the &quot;ntnu_server&quot;</span>\n",
    "  traceroute 10.20.30.2\n",
    "</pre></div>"
   ]
  },
  {
   "cell_type": "code",
   "execution_count": null,
   "id": "ef0eca4b",
   "metadata": {},
   "outputs": [],
   "source": [
    "from test_lab4_part1 import TestLab4_part1\n",
    "check_progress = TestLab4_part1()\n",
    "check_progress.test_1_1()"
   ]
  },
  {
   "cell_type": "markdown",
   "id": "e9173b4b-e046-45fb-a767-2b2185277e44",
   "metadata": {},
   "source": [
    "- Since manipulating the network traffic will affect `ssh` connections, we recommend that you use `docker attach` to attach to the containers. \n",
    "  <div class=\"alert alert-block alert-warning\">\n",
    "  <b>WARNING:</b> Using <code>ssh</code> to connect to the containers will be slow but correct even when applying packet loss or packet corruption since <code>ssh</code> is connection-oriented. If you use <code>docker attach</code>, do not kill the container when exiting (by pressing <code>Ctrl+d</code> or typing <code>exit</code>); use detach instead (press <code>Ctrl+p</code> followed by <code>Ctrl+q</code>)</div>\n",
    "\n",
    "<!-- >NOTE: Using `ssh` to connect to the containers will be slow but correct even when applying packet loss or packet corruption since `ssh` is connection-oriented. If you use `docker attach`, do not kill the container when exiting (by pressing `Ctrl+c` or typing `exit`); use detach instead (press `Ctrl+p` followed by `Ctrl+q`)-->\n"
   ]
  },
  {
   "cell_type": "markdown",
   "id": "8556a944-9bbe-40d1-a173-d22236fa7224",
   "metadata": {
    "tags": []
   },
   "source": [
    "# Milestone 1 — Video Streaming\n",
    "\n",
    "In this milestone, you will stream a video file from the \"server\" container to your local machine under normal network conditions. You will use [VLC](https://en.wikipedia.org/wiki/VLC_media_player) to both stream the video file and play the video stream. VLC is a free and [open-source](https://github.com/videolan/vlc) media player and streaming media server."
   ]
  },
  {
   "cell_type": "markdown",
   "id": "4ed79c54-c20f-487a-a6da-82384fca1b42",
   "metadata": {
    "tags": []
   },
   "source": [
    "## Task1.1 — TCP stream"
   ]
  },
  {
   "cell_type": "markdown",
   "id": "110d7ea1",
   "metadata": {},
   "source": [
    "- On the **\"server\"** container, start a TCP stream using the following command:\n",
    "\n",
    "  <div style=\"background: #f8f8f8; overflow:auto;width:auto;border:solid gray;border-width:.1em .1em .1em .8em;padding:.2em .6em;\"><pre style=\"margin: 0; line-height: 125%\">cvlc  ~/work_dir/frog.mp4 --loop --sout <span style=\"color: #BA2121\">&#39;#std{access=http,mux=ts,bind=10.20.30.2:9080}&#39;</span>\n",
    "</pre></div>\n",
    "\n",
    "- Where each option means:\n",
    "\n",
    "  - `cvlc` is the VLC command line interface.\n",
    "  - `~/work_dir/frog.mp4` is the path to the video file.\n",
    "  - `--loop` will loop the video (i.e., restart the video when it finishes).\n",
    "  - `--sout` specifies the stream output.\n",
    "  - `#std` specifies the standard output.\n",
    "  - `access=http` specifies the protocol used to stream the video. In this case, we use HTTP (TCP).\n",
    "  - `mux=ts` specifies the encapsulation method used for the resulting stream. In this case, we use MPEG2-TS (suitable for mp4 files).\n",
    "  - `bind=10.20.30.2:9080` binds the server's socket to server's IP and a port. The server's socket is the socket that VLC will create and listen on."
   ]
  },
  {
   "cell_type": "markdown",
   "id": "6ecb80d7",
   "metadata": {},
   "source": [
    ">You will see some error messages related to the fact that the server has no GUI, such as \"D-Bus\" and \"interface\" or a sound daemon such as \"PulseAudio\". Ignore these error messages.\n",
    "\n",
    "\n",
    "- On your **local machine**, start an ssh tunnel to the server's socket:\n",
    "  <div style=\"background: #f8f8f8; overflow:auto;width:auto;border:solid gray;border-width:.1em .1em .1em .8em;padding:.2em .6em;\"><pre style=\"margin: 0; line-height: 125%\">ssh ntnu_server -L 1234:10.20.30.2:9080\n",
    "</pre></div>\n"
   ]
  },
  {
   "cell_type": "markdown",
   "id": "d65a2881",
   "metadata": {},
   "source": [
    "- On your **local machine** (not on the opened `ssh` terminal above), play the the video stream:\n",
    "  <div style=\"background: #f8f8f8; overflow:auto;width:auto;border:solid gray;border-width:.1em .1em .1em .8em;padding:.2em .6em;\"><pre style=\"margin: 0; line-height: 125%\">vlc http://localhost:1234 --network-caching<span style=\"color: #666666\">=</span>1000\n",
    "</pre></div>\n"
   ]
  },
  {
   "cell_type": "markdown",
   "id": "e8350cd8",
   "metadata": {},
   "source": [
    "- The `--network-caching` option specifies VLC cache size in milliseconds. The cache is a buffer that stores the video stream before playing it. The default cache size is 1000 ms. This means that VLC will download 1 second of the video stream before playing it to avoid the video from stopping while the stream is being downloaded. \n",
    "\n",
    "- Try different cache sizes (e.g., 0, 100, 1000, 10000) and observe the effect on the video quality.\n",
    "\n",
    "- Stop the video player and exit the ssh tunnel.\n",
    "\n",
    "- Later in the lab, when re-running TCP tests, use the following command to start the ssh tunnel (in the background) and play the video in one command. The tunnel will automatically close after you terminate the video player.\n",
    "  <div style=\"background: #f8f8f8; overflow:auto;width:auto;border:solid gray;border-width:.1em .1em .1em .8em;padding:.2em .6em;\"><pre style=\"margin: 0; line-height: 125%\">ssh -f -o <span style=\"color: #19177C\">ExitOnForwardFailure</span><span style=\"color: #666666\">=</span>yes ntnu_server -L 1234:10.20.30.2:9080 <span style=\"color: #BA2121\">&quot;sleep 1&quot;</span> <span style=\"color: #666666\">&amp;&amp;</span> vlc http://localhost:1234 --network-caching<span style=\"color: #666666\">=</span>100\n",
    "</pre></div><br>\n",
    "\n",
    "  - `-f`: Put the ssh tunnel in the background.\n",
    "  - `-o ExitOnForwardFailure=yes`: terminate the tunnel when the port forwarding is not in use (e.g., when the video player is terminated).\n",
    "  - `sleep 1`: wait until the connection is there and the ports are open before going into the background.\n"
   ]
  },
  {
   "cell_type": "markdown",
   "id": "4536f24e-1996-4f8e-bf4e-30eec59d7303",
   "metadata": {
    "tags": []
   },
   "source": [
    "## Task 1.2 — UDP stream"
   ]
  },
  {
   "cell_type": "markdown",
   "id": "5ee3e53b",
   "metadata": {},
   "source": [
    "- On the **\"server\"** container, start a UDP stream using the following command:\n",
    "  <!-- HTML generated using hilite.me --><div style=\"background: #f8f8f8; overflow:auto;width:auto;border:solid gray;border-width:.1em .1em .1em .8em;padding:.2em .6em;\"><pre style=\"margin: 0; line-height: 125%\">cvlc ~/work_dir/frog.mp4 --loop --sout-keep --sout <span style=\"color: #BA2121\">&#39;#std{access=udp,mux=ts,dst=10.20.40.1:9080}&#39;</span></pre></div><br>\n",
    "\n",
    "  - `--sout-keep` option: keep the UPD stream open.\n",
    "  - `access=udp` specifies UDP as the streaming protocol.\n",
    "  - `dst=10.20.40.1:9080` specifies the destination IP address and port for the UDP packets. In this case, the destination is the \"ntnu_server.\" Notice the difference between UDP and TCP: in TCP, the server listens on a socket (binds a socket to the server's IP address), and the client connects to that socket. In UDP, the server sends packets to a destination IP address and port without binding any socket to its address."
   ]
  },
  {
   "cell_type": "markdown",
   "id": "05348145",
   "metadata": {},
   "source": [
    "- On your **local machine**, run the following command to start an ssh tunnel and play the video:\n",
    "  <!-- HTML generated using hilite.me --><div style=\"background: #f8f8f8; overflow:auto;width:auto;border:solid gray;border-width:.1em .1em .1em .8em;padding:.2em .6em;\"><pre style=\"margin: 0; line-height: 125%\">socat TCP4-LISTEN:6080, UDP4:localhost:1234 &amp; ssh -f -o <span style=\"color: #19177C\">ExitOnForwardFailure</span><span style=\"color: #666666\">=</span>yes ntnu_server -R 10.20.40.1:7080:localhost:6080 <span style=\"color: #BA2121\">&quot;sleep 1 &amp;&amp; socat UDP4-LISTEN:9080, TCP4:localhost:7080&quot;</span> &amp; vlc udp://@localhost:1234 --network-caching<span style=\"color: #666666\">=</span>100 <span style=\"color: #666666\">&amp;&amp;</span> <span style=\"color: #008000\">fg</span></pre></div><br>\n",
    "\n",
    "  - `socat UDP4-LISTEN:9080, TCP4:localhost:7080`: transfer UDP packets from UDP port 9080 to TCP port 7080 on the \"ntnu\\_server\". \n",
    "  - `ssh ... -R 10.20.40.1:7080:localhost:6080`: reverse ssh tunnel from the \"ntnu_server\" to your local machine. The tunnel will forward the packets from TCP port 7080 on the \"ntnu_server\" to TCP port 6080 on your local machine.\n",
    "  - `socat TCP4-LISTEN:6080, UDP4:localhost:1234`: transfer the packets from TCP port 6080 to UDP port 1234 on your local machine. \n",
    "  - `vlc udp://@localhost:1234`: VLC player will receive the UDP packets on UDP port 1234 and play the video.\n",
    "  \n",
    "- Try different cache sizes (e.g., 0, 100, 1000, 10000, 100000) and observe the effect on the video quality."
   ]
  },
  {
   "cell_type": "markdown",
   "id": "ef850a05",
   "metadata": {},
   "source": [
    "<div class=\"alert alert-block alert-secondary\">\n",
    "<b>Note:</b> Do not worry about the meaning of the command. The main idea is that we are using [`socat`](https://www.redhat.com/sysadmin/getting-started-socat) to send UDP packets through an ssh tunnel, which is not possible by default because <code>ssh</code> is connection-oriented.</div>\n",
    "\n",
    "\n",
    "<span style=\"font-size: 25px;\">Q1. </span> **REPORT:** Briefly compare the effect of the cache size on the video quality for the TCP and UDP streams. Give reasons for your observations based on the fundamentals of TCP and UDP."
   ]
  },
  {
   "cell_type": "markdown",
   "id": "43d99049-92e3-4fc0-9507-89a7cb50bd98",
   "metadata": {
    "tags": []
   },
   "source": [
    "## Task 1.3 — Traffic Capture\n"
   ]
  },
  {
   "cell_type": "markdown",
   "id": "135f65d1",
   "metadata": {},
   "source": [
    "\n",
    "- Stop if there is any stream running on the **\"server\"** container.\n",
    "\n",
    "- On the **\"ntnu_server\"**, start capturing network traffic on the interface **\"br_net2\"**:\n",
    "\n",
    "  <div style=\"background: #f8f8f8; overflow:auto;width:auto;border:solid gray;border-width:.1em .1em .1em .8em;padding:.2em .6em;\"><pre style=\"margin: 0; line-height: 125%\">sudo tcpdump -i br_net2 -w tcp_normal_traffic.pcap\n",
    "</pre></div>\n",
    "\n",
    "- On the **\"server\"** container, start a TCP stream.\n",
    "\n",
    "- On your **local machine**, play the video stream.\n",
    "\n",
    "- Stop the video player and the stream after a few seconds. Then, stop the tcpdump on the **\"ntnu_server\"**. Save the pcap file to your local machine.\n",
    "\n",
    "- Repeat the above steps for the UDP stream. Name the pcap file as `udp_normal_traffic.pcap` and save it to your local machine.\n",
    "\n",
    "- You will use these pcap files (\"tcp_normal_traffic.pcap\" and \"udp_normal_traffic.pcap\") in the following milestones as the **baseline for comparison**. They represent network traffic under _normal_ conditions."
   ]
  },
  {
   "cell_type": "markdown",
   "id": "7251b2a3-5575-4e4b-a73e-a3689c39077d",
   "metadata": {
    "tags": []
   },
   "source": [
    "# Milestone 2 — Packet Loss"
   ]
  },
  {
   "cell_type": "markdown",
   "id": "11d2cef3",
   "metadata": {
    "tags": []
   },
   "source": [
    "##  Background — Traffic Control\n",
    "\n",
    "Linux [traffic control](https://tldp.org/HOWTO/Traffic-Control-HOWTO/overview.html) is a powerful tool to manipulate your network traffic. This tool is useful for a network administrator to implement network policies, such as traffic shaping, scheduling and policing. For example, you can use it to ensure fair use of bandwidth among users, prioritize the traffic of a specific application, or block a particular application.\n",
    "\n",
    "In this lab, you will use the [`tc`](https://man7.org/linux/man-pages/man8/tc.8.html) command to configure traffic control in the \"router\" container. You will use [`tc-netem`](https://man7.org/linux/man-pages/man8/tc-netem.8.html) command to \"emulate\" different types of network conditions, such as packet loss, packet corruption, bandwidth limitation, and latency. This can be useful when you want to test how your application behaves under different network conditions.\n",
    "\n",
    "The format of the `tc` command is as follows:\n",
    "<div style=\"background: #f8f8f8; overflow:auto;width:auto;border:solid gray;border-width:.1em .1em .1em .8em;padding:.2em .6em;\"><pre style=\"margin: 0; line-height: 125%\">sudo tc qdisc add/del/replace dev ether0 root netem delay/loss/corrupt 100ms/10%/10%\n",
    "</pre></div>\n",
    "\n"
   ]
  },
  {
   "cell_type": "markdown",
   "id": "27973ecb",
   "metadata": {},
   "source": [
    "Where:\n",
    "- `tc`: traffic control command.\n",
    "- `qdisc`(queueing discipline): simply a queue for outbound data packets and a scheduler on a network interface that decides which packet to send next (FIFO, priority-based, etc.).\n",
    "- `add/del/replace`: add, delete, or replace a traffic control rule.\n",
    "- `dev`: specify the network interface.\n",
    "- `root`: attach the traffic control rule to the root qdisc. You will only use the root qdisc in this lab, but it is possible to attach the traffic control rule to different classes of the qdisc.\n",
    "- [`netem`](https://wiki.linuxfoundation.org/networking/netem): network emulator that allows you to emulate different types of network conditions.\n",
    "- `delay/loss/corrupt 100ms/10%/10%`: specify the network condition type and the condition amount.\n",
    "\n",
    "All the traffic control rules in this lab are applied to the egress scheduler only. This means that the traffic control rules apply to the packets sent from the \"router\" container to the \"ntnu_server,\" not vice versa."
   ]
  },
  {
   "cell_type": "markdown",
   "id": "22d108b8",
   "metadata": {},
   "source": [
    "## Task 2.1 — Streaming under Packet Loss\n",
    "\n",
    "- In the **\"router\"** container, introduce a packet loss of 5% on the interface **\"ether0\"**:\n",
    "\n",
    "  <div style=\"background: #f8f8f8; overflow:auto;width:auto;border:solid gray;border-width:.1em .1em .1em .8em;padding:.2em .6em;\"><pre style=\"margin: 0; line-height: 125%\">sudo tc qdisc add dev ether0 root netem loss 5%\n",
    "</pre></div>\n",
    "\n",
    "- Stream and play the video over TCP (as you did in Milestone 1) and observe the video quality. Try to change the amount of packet loss until you see a noticeable difference:\n",
    "  <div style=\"background: #f8f8f8; overflow:auto;width:auto;border:solid gray;border-width:.1em .1em .1em .8em;padding:.2em .6em;\"><pre style=\"margin: 0; line-height: 125%\">sudo tc qdisc replace dev ether0 root netem loss <span style=\"color: #666666\">[</span>amount_of_packet_loss%<span style=\"color: #666666\">]</span>\n",
    "</pre></div><br>\n",
    "\n",
    "<div class=\"alert alert-block alert-info\">\n",
    "<b>Hint:</b> You can use <b>tmux</b> to navigate to the containers more easily. </div>\n",
    "\n",
    "- Repeat the above steps for UDP and observe the video quality. Try to change the amount of packet loss until you see a noticeable difference.\n",
    "- You can remove any traffic control rule with this command in case you want to restart:\n",
    "\n",
    "  <div style=\"background: #f8f8f8; overflow:auto;width:auto;border:solid gray;border-width:.1em .1em .1em .8em;padding:.2em .6em;\"><pre style=\"margin: 0; line-height: 125%\">sudo tc qdisc del dev ether0 root\n",
    "</pre></div>\n",
    "\n",
    "<span style=\"font-size: 25px;\">Q2. </span> **REPORT:** Briefly describe and compare what happens to the video stream under packet loss *vs.* normal network conditions for both TCP and UDP. Give reasons for your observations based on the fundamentals of TCP and UDP.\n"
   ]
  },
  {
   "cell_type": "markdown",
   "id": "8f6a5fa1-1cf9-40ba-8536-7006627a3efd",
   "metadata": {},
   "source": [
    "## Task 2.2 — Analyzing traffic under packet loss\n",
    "\n",
    "Now, you will capture and analyze packets in the presence of packet loss. You will capture packets in the server (before the router, thus before applying packet loss) and in your \"ntnu_server\" (after the router, thus after applying packet loss). Refer to [figure 1](#figure_1) to understand the network topology and why we capture packets in these two places.\n",
    "\n",
    "\n"
   ]
  },
  {
   "cell_type": "markdown",
   "id": "057d4649-c446-4a61-b422-e0dd0fcfc2a1",
   "metadata": {
    "tags": []
   },
   "source": [
    "### TCP"
   ]
  },
  {
   "cell_type": "markdown",
   "id": "0bb68274",
   "metadata": {},
   "source": [
    "- On the **\"server\"** container, start capturing packets on the interface **\"eth0\"**:\n",
    "\n",
    "  <div style=\"background: #f8f8f8; overflow:auto;width:auto;border:solid gray;border-width:.1em .1em .1em .8em;padding:.2em .6em;\"><pre style=\"margin: 0; line-height: 125%\">sudo tcpdump -i eth0 -w tcp_before_loss.pcap\n",
    "</pre></div>\n",
    "\n",
    "- On the **\"ntnu_server\"**, start capturing packets on the interface **\"br_net2\"**:\n",
    "\n",
    "  <div style=\"background: #f8f8f8; overflow:auto;width:auto;border:solid gray;border-width:.1em .1em .1em .8em;padding:.2em .6em;\"><pre style=\"margin: 0; line-height: 125%\">sudo tcpdump -i br_net2 -w tcp_after_loss.pcap\n",
    "</pre></div>\n",
    "\n",
    "- On the **\"router\"** container, introduce a packet loss of 20% on the interface **\"ether0\"**:\n",
    "\n",
    "  <div style=\"background: #f8f8f8; overflow:auto;width:auto;border:solid gray;border-width:.1em .1em .1em .8em;padding:.2em .6em;\"><pre style=\"margin: 0; line-height: 125%\">sudo tc qdisc replace dev ether0 root netem loss 20%\n",
    "</pre></div>\n",
    "\n",
    "- Then stream and play the video over TCP and stop the streaming after a short time (e.g., 30 seconds). Stop the packet capturing on both the **\"server\"** and the **\"ntnu_server\"**. Save the pcap files to your local machine.\n",
    "\n",
    "- Open the capture files (**\"tcp_after_loss.pcap\"** and **\"tcp_normal_traffic.pcap\"**) in Wireshark. Then answer the following questions and validate your answer with a screenshot. You can apply a display filter to show only the packets exchanged between the server and the client, for example: `ip.addr eq 10.20.30.2 and ip.addr eq 10.20.40.1`.\n",
    "\n",
    "<span style=\"font-size: 25px;\">Q3. </span> **REPORT:** Compare the captured TCP packets in the presence of packet loss vs. normal network conditions. What is the difference between the two? Why do you think this is happening?\n",
    "\n",
    "<div class=\"alert alert-block alert-info\">\n",
    "<b>Hint:</b> You can apply these display filters: <code>tcp.analysis.lost_segment</code> to indicate any gap in sequence numbers, and <code>tcp.analysis.retransmission</code> to display all retransmissions.</div>\n",
    "\n",
    "\n",
    "- Open the capture files (**\"tcp_before_loss.pcap\"** and **\"tcp_after_loss.pcap\"**) in Wireshark. Then answer the following questions and validate your answer with a screenshot.\n",
    "\n",
    "<span style=\"font-size: 25px;\">Q4. </span> **REPORT:** Compare the captured TCP packets before and after applying packet loss. What is the difference between the two? Why do you think this is happening?\n",
    "\n",
    "<div class=\"alert alert-block alert-info\">\n",
    "<b>Tip:</b> In Wireshark, navigate to <b>Analyze &#8594 <a href=\"https://www.wireshark.org/docs/wsug_html_chunked/ChAdvExpert.html\">Expert Information></b>. This will give you a summary of network behaviour so it is easier to find network issues.</div>\n"
   ]
  },
  {
   "cell_type": "markdown",
   "id": "e613981e-8031-4f20-b484-e66aa6e18781",
   "metadata": {
    "tags": []
   },
   "source": [
    "### UDP"
   ]
  },
  {
   "cell_type": "markdown",
   "id": "51462344",
   "metadata": {
    "tags": []
   },
   "source": [
    "\n",
    "- On the **\"server\"** container, start capturing packets on the interface **\"eth0\"**:\n",
    "\n",
    "  <div style=\"background: #f8f8f8; overflow:auto;width:auto;border:solid gray;border-width:.1em .1em .1em .8em;padding:.2em .6em;\"><pre style=\"margin: 0; line-height: 125%\">sudo tcpdump -i eth0 -w udp_before_loss.pcap\n",
    "</pre></div>\n",
    "\n",
    "- On the **\"ntnu_server\"**, start capturing packets on the interface **\"br_net2\"**:\n",
    "\n",
    "  <div style=\"background: #f8f8f8; overflow:auto;width:auto;border:solid gray;border-width:.1em .1em .1em .8em;padding:.2em .6em;\"><pre style=\"margin: 0; line-height: 125%\">sudo tcpdump -i br_net2 -w udp_after_loss.pcap\n",
    "</pre></div>\n",
    "\n",
    "- On the **\"router\"** container, introduce a packet loss of 20% on the interface **\"ether0\"**:\n",
    "\n",
    "  <div style=\"background: #f8f8f8; overflow:auto;width:auto;border:solid gray;border-width:.1em .1em .1em .8em;padding:.2em .6em;\"><pre style=\"margin: 0; line-height: 125%\">sudo tc qdisc replace dev ether0 root netem loss 20%\n",
    "</pre></div>\n",
    "\n",
    "- Then stream and play the video over UDP and stop the streaming after a short time (e.g., 30 seconds). Stop the packet capturing on the **\"server\"** and the **\"ntnu_server\"**. Save the pcap files to your local machine.\n",
    "\n",
    "- Open the capture files (**\"udp_before_loss.pcap\"** and **\"udp_after_loss.pcap\"**) in Wireshark. Then answer the following questions and validate your answer with a screenshot.\n",
    "\n",
    "<span style=\"font-size: 25px;\">Q5. </span> **REPORT:** Compare the captured UDP packets before and after applying packet loss. Can you see any difference between the two? Is there any mechanism in the UDP protocol that lets you track packets and detect packet loss?\n",
    "\n",
    "- Remove any traffic control rule in the router:\n",
    "\n",
    "  <div style=\"background: #f8f8f8; overflow:auto;width:auto;border:solid gray;border-width:.1em .1em .1em .8em;padding:.2em .6em;\"><pre style=\"margin: 0; line-height: 125%\">sudo tc qdisc del dev ether0 root\n",
    "</pre></div>\n"
   ]
  },
  {
   "cell_type": "markdown",
   "id": "0ecd57c0-ebe5-416e-92ef-4de70a861264",
   "metadata": {
    "tags": []
   },
   "source": [
    "# Milestone 3 — Packet Corruption"
   ]
  },
  {
   "cell_type": "markdown",
   "id": "c25940cc-929f-4274-8d56-81326cb6781a",
   "metadata": {
    "tags": []
   },
   "source": [
    "## Task 3.1 — Streaming under Packet Corruption"
   ]
  },
  {
   "cell_type": "markdown",
   "id": "24abb51a",
   "metadata": {
    "tags": []
   },
   "source": [
    "- In the **\"router\"** container, introduce a packet corruption of 5% on the interface **\"ether0\"**:\n",
    "\n",
    "  <div style=\"background: #f8f8f8; overflow:auto;width:auto;border:solid gray;border-width:.1em .1em .1em .8em;padding:.2em .6em;\"><pre style=\"margin: 0; line-height: 125%\">sudo tc qdisc add dev ether0 root netem corrupt 5%\n",
    "</pre></div>\n",
    "\n",
    "- Stream and play the video over TCP  and observe the video quality. Try to change the amount of packet corruption until you see a noticeable difference:\n",
    "\n",
    "  <div style=\"background: #f8f8f8; overflow:auto;width:auto;border:solid gray;border-width:.1em .1em .1em .8em;padding:.2em .6em;\"><pre style=\"margin: 0; line-height: 125%\">sudo tc qdisc replace dev ether0 root netem corrupt [amount_of_packet_corruption%]\n",
    "</pre></div>\n",
    "\n",
    "- Repeat the above steps for UDP and observe the video quality. Try to change the amount of packet corruption until you see a noticeable difference."
   ]
  },
  {
   "cell_type": "markdown",
   "id": "ba54abe5-aad0-481b-a04e-1d8a79e42f80",
   "metadata": {
    "tags": []
   },
   "source": [
    "## Task 3.2 — Analyzing traffic under Packet Corruption (extra)\n",
    "\n",
    "<span style=\"font-size: 25px;\">Q6. </span>  **Extra Credit:** Perform a similar analysis as in Milestone 2 (task 2.2), but this time under packet corruption. Try to find other analysis tools/techniques that can help you understand the behavior of the network under packet corruption. Do you see any difference between the video quality when applying packet corruption *vs.* packet loss for TCP and UDP? Do you see the corruption in the video? Why?\n",
    "\n",
    "> [HINT](https://linux-tips.com/t/how-to-disable-udp-checksum-control-in-kernel/362)\n",
    "\n"
   ]
  },
  {
   "cell_type": "markdown",
   "id": "8f43b348-8b04-413b-9ddb-811c2a187b62",
   "metadata": {
    "tags": []
   },
   "source": [
    "# Milestone 4 — Bandwidth Limits"
   ]
  },
  {
   "cell_type": "markdown",
   "id": "d6ce745d-fe83-4b68-a2c6-704511c8d033",
   "metadata": {
    "tags": []
   },
   "source": [
    "## Task 4.1 — Throughput Analysis"
   ]
  },
  {
   "cell_type": "markdown",
   "id": "65432bad",
   "metadata": {
    "tags": []
   },
   "source": [
    "When analyzing the required bandwidth (maximum transfer capacity of a network), you need to know the throughput of your application. In this milestone, you need to know the amounts of packets produced by the streaming server (in bits/second). You can use Wireshark [I/O Graph](https://www.wireshark.org/docs/wsug_html_chunked/ChStatIOGraphs.html) to see the throughput (as a graph over time).\n",
    "\n",
    "- Open the capture file (**\"tcp_normal_traffic.pcap\"**) in Wireshark. \n",
    "\n",
    "  Then answer the following questions and validate your answer with a screenshot. Apply the display filter `ip.addr eq 10.20.30.2 and ip.addr eq 10.20.40.1`, then navigate to **Statistics**$\\rightarrow$**I/O Graph**. In the lower part of the graph, select only \"Filtered packets\". In the \"Y Axis\" tap,select \"Bits\" to show Bits/sec instead of Packets/sec.\n",
    "\n",
    "- Repeat the above steps for the capture file (**\"udp_normal_traffic.pcap\"**).\n",
    "\n",
    "<span style=\"font-size: 25px;\">Q7. </span>  **REPORT:** Determine (approximately) the average throughput of your video streaming over UDP and TCP in the **normal** network conditions. Provide screenshots of the throughput graphs.\n"
   ]
  },
  {
   "cell_type": "markdown",
   "id": "4fdb8629-7f93-457a-aad6-5f2dfb381090",
   "metadata": {
    "tags": []
   },
   "source": [
    "## Task 4.2 — Streaming under Bandwidth Limits"
   ]
  },
  {
   "cell_type": "markdown",
   "id": "3c8b5b2c-aa75-4b74-895d-20ae1c259916",
   "metadata": {
    "tags": []
   },
   "source": [
    "- In the **\"router\"** container, limit the bandwidth of the interface **\"ether0\"** to the average throughput of your video streaming (e.g. 500kbit in my case):\n",
    "\n",
    "  <div style=\"background: #f8f8f8; overflow:auto;width:auto;border:solid gray;border-width:.1em .1em .1em .8em;padding:.2em .6em;\"><pre style=\"margin: 0; line-height: 125%\">sudo tc qdisc add dev ether0 root tbf rate [average_throughput]kbit latency 50ms burst 500kbit\n",
    "</pre></div>\n",
    "\n",
    "- Stream and play the video over TCP and observe the video quality under the bandwidth limit. Try to change the bandwidth limit until you see a noticeable difference:\n",
    "\n",
    "  <div style=\"background: #f8f8f8; overflow:auto;width:auto;border:solid gray;border-width:.1em .1em .1em .8em;padding:.2em .6em;\"><pre style=\"margin: 0; line-height: 125%\">sudo tc qdisc replace dev ether0 root tbf rate [bandwidth_limit]kbit latency 50ms burst [bandwidth_limit]kbit\n",
    "</pre></div>\n",
    "\n",
    "- Repeat the above steps for UDP and observe the video quality under the bandwidth limit. \n",
    "\n",
    "<span style=\"font-size: 25px;\">Q8. </span>  **REPORT:** Briefly describe and compare what happens to the video stream under bandwidth limit vs. normal network conditions for TCP and UDP. Give reasons for your observations based on the fundamentals of TCP and UDP."
   ]
  },
  {
   "cell_type": "markdown",
   "id": "196fed8e-60c9-4478-ae16-2c8e1f947069",
   "metadata": {
    "tags": []
   },
   "source": [
    "## Task 4.3 — Analyzing traffic under Bandwidth Limits"
   ]
  },
  {
   "cell_type": "markdown",
   "id": "ec10a5ba-430d-48af-a1b7-763842c779af",
   "metadata": {
    "tags": []
   },
   "source": [
    "### TCP"
   ]
  },
  {
   "cell_type": "markdown",
   "id": "12a34505",
   "metadata": {
    "jp-MarkdownHeadingCollapsed": true,
    "tags": []
   },
   "source": [
    "- On the **\"server\"** container, start capturing packets on the interface **\"eth0\"**:\n",
    "\n",
    "  <div style=\"background: #f8f8f8; overflow:auto;width:auto;border:solid gray;border-width:.1em .1em .1em .8em;padding:.2em .6em;\"><pre style=\"margin: 0; line-height: 125%\">sudo tcpdump -i eth0 -w tcp_before_bandwidth_limit.pcap\n",
    "</pre></div>\n",
    "\n",
    "- On the **\"ntnu_server\"**, start capturing packets on the interface **\"br_net2\"**:\n",
    "\n",
    "  <div style=\"background: #f8f8f8; overflow:auto;width:auto;border:solid gray;border-width:.1em .1em .1em .8em;padding:.2em .6em;\"><pre style=\"margin: 0; line-height: 125%\">sudo tcpdump -i br_net2 -w tcp_after_bandwidth_limit.pcap\n",
    "</pre></div>\n",
    "\n",
    "- On the **\"router\"**, limit the bandwidth of the interface **\"ether0\"** to a value less than the average throughput of your video streaming (e.g., the value that makes the video quality noticeably worse):\n",
    "\n",
    "  <div style=\"background: #f8f8f8; overflow:auto;width:auto;border:solid gray;border-width:.1em .1em .1em .8em;padding:.2em .6em;\"><pre style=\"margin: 0; line-height: 125%\">sudo tc qdisc replace dev ether0 root tbf rate [bandwidth_limit]kbit latency 50ms burst [bandwidth_limit]kbit\n",
    "</pre></div>\n",
    "\n",
    "- Then stream and play the video over TCP and stop the streaming after a short time (e.g., 30 seconds). Stop the packet capturing on the **\"server\"** and the **\"ntnu_server\"**. Save the pcap files to your local machine.\n",
    "\n",
    "- Open the capture files (**\"tcp_normal_traffic.pcap\"**, **\"tcp_after_bandwidth_limit.pcap\"**) in Wireshark. Then answer the following questions and validate your answer with a screenshot.\n",
    "\n",
    "<span style=\"font-size: 25px;\">Q9. </span> **REPORT:** Compare the throughput (using the I/O Graph) of the video streaming over TCP in the **normal** network conditions vs the **bandwidth limited** network conditions. What do you observe? Why?\n",
    "\n",
    "- Open the capture files (**\"tcp_before_bandwidth_limit.pcap\"** and **\"tcp_after_bandwidth_limit.pcap\"**) in Wireshark. Then answer the following questions and validate your answer with a screenshot.\n",
    "\n",
    "<span style=\"font-size: 25px;\">Q10. </span> **REPORT:** Do you see any difference between the stream's throughput (using the I/O Graph) before and after applying the bandwidth limit? Why?\n",
    "\n"
   ]
  },
  {
   "cell_type": "markdown",
   "id": "77e0a8eb-6419-4b07-95c4-b7eb8edf02d2",
   "metadata": {
    "tags": []
   },
   "source": [
    "### UDP"
   ]
  },
  {
   "cell_type": "markdown",
   "id": "815ba94c",
   "metadata": {
    "tags": []
   },
   "source": [
    "- On the **\"server\"** container, start capturing packets on the interface **\"eth0\"**:\n",
    "\n",
    "  <div style=\"background: #f8f8f8; overflow:auto;width:auto;border:solid gray;border-width:.1em .1em .1em .8em;padding:.2em .6em;\"><pre style=\"margin: 0; line-height: 125%\">sudo tcpdump -i eth0 -w udp_before_bandwidth_limit.pcap\n",
    "</pre></div>\n",
    "\n",
    "- On the **\"ntnu_server\"**, start capturing packets on the interface **\"br_net2\"**:\n",
    "\n",
    "  <div style=\"background: #f8f8f8; overflow:auto;width:auto;border:solid gray;border-width:.1em .1em .1em .8em;padding:.2em .6em;\"><pre style=\"margin: 0; line-height: 125%\">sudo tcpdump -i br_net2 -w udp_after_bandwidth_limit.pcap\n",
    "</pre></div>\n",
    "\n",
    "- On the **\"router\"**, limit the bandwidth of the interface **\"ether0\"**.\n",
    "\n",
    "- Stream and play the video over UDP and stop the streaming after a short time (e.g., 30 seconds). Stop the packet capturing on the **\"server\"** and the **\"ntnu_server\"**. Save the pcap files to your local machine.\n"
   ]
  },
  {
   "cell_type": "markdown",
   "id": "35c2d1c5-d4ab-4a24-92a4-d7b1114f55da",
   "metadata": {
    "tags": []
   },
   "source": [
    "### UDP vs. TCP"
   ]
  },
  {
   "cell_type": "markdown",
   "id": "f88295ce",
   "metadata": {
    "jp-MarkdownHeadingCollapsed": true,
    "tags": []
   },
   "source": [
    "- Open the capture files (**\"tcp_before_bandwidth_limit.pcap\"**, **\"tcp_after_bandwidth_limit.pcap\"**, **\"udp_before_bandwidth_limit.pcap\"**, **\"udp_after_bandwidth_limit.pcap\"**) in Wireshark. Then answer the following questions and validate your answer with a screenshot.\n",
    "\n",
    "<span style=\"font-size: 25px;\">Q11. </span> **REPORT:** Compare the stream's throughput (using the I/O Graph) over TCP vs. UDP before and after applying the bandwidth limit. What do you observe? Why?\n",
    "\n",
    "- Remove the bandwidth limit from the **\"router\"**:\n",
    "\n",
    "  <div style=\"background: #f8f8f8; overflow:auto;width:auto;border:solid gray;border-width:.1em .1em .1em .8em;padding:.2em .6em;\"><pre style=\"margin: 0; line-height: 125%\">sudo tc qdisc del dev ether0 root\n",
    "</pre></div>"
   ]
  },
  {
   "cell_type": "markdown",
   "id": "db5f500b-2e97-46a6-8129-b8e1066cc32f",
   "metadata": {
    "tags": []
   },
   "source": [
    "# Milestone 5 — Network Delay"
   ]
  },
  {
   "cell_type": "markdown",
   "id": "41ecf56c",
   "metadata": {
    "tags": []
   },
   "source": [
    "## Task 5.1 — Streaming under Network Delay"
   ]
  },
  {
   "cell_type": "markdown",
   "id": "93779f47-df7b-4aa1-8121-a1b00b3db274",
   "metadata": {},
   "source": [
    "- In the **\"router\"** container, add a delay of 200ms to the interface **\"ether0\"**:\n",
    "\n",
    "  <div style=\"background: #f8f8f8; overflow:auto;width:auto;border:solid gray;border-width:.1em .1em .1em .8em;padding:.2em .6em;\"><pre style=\"margin: 0; line-height: 125%\">sudo tc qdisc add dev ether0 root netem delay 200ms\n",
    "</pre></div>\n",
    "\n",
    "- Stream and play the video over TCP and observe the video quality under the network delay. Try to change the delay until you see a noticeable difference:\n",
    "\n",
    "  <div style=\"background: #f8f8f8; overflow:auto;width:auto;border:solid gray;border-width:.1em .1em .1em .8em;padding:.2em .6em;\"><pre style=\"margin: 0; line-height: 125%\">sudo tc qdisc replace dev ether0 root netem delay [delay]ms\n",
    "</pre></div>\n",
    "\n",
    "- Repeat the above steps for UDP and observe the video quality under the network delay.\n"
   ]
  },
  {
   "cell_type": "markdown",
   "id": "16f3f097-6bb8-4047-a2c6-01ff91d7db31",
   "metadata": {
    "tags": []
   },
   "source": [
    "\n",
    "## Task 5.2 — Analyzing traffic under Network Delay (extra)"
   ]
  },
  {
   "cell_type": "markdown",
   "id": "aff4980a",
   "metadata": {},
   "source": [
    "\n",
    "\n",
    "<span style=\"font-size: 25px;\">Q12. </span> **Extra Credit:** Perform a similar analysis as Task 4.3 for the video streaming under network delay. Try to find other tools/techniques that help you analyze network delay.\n",
    "\n",
    "- You can remove any traffic control rule with this command:\n",
    "  <div style=\"background: #f8f8f8; overflow:auto;width:auto;border:solid gray;border-width:.1em .1em .1em .8em;padding:.2em .6em;\"><pre style=\"margin: 0; line-height: 125%\">sudo tc qdisc del dev ether0 root\n",
    "</pre></div>\n"
   ]
  }
 ],
 "metadata": {
  "kernelspec": {
   "display_name": "Python 3 (ipykernel)",
   "language": "python",
   "name": "python3"
  },
  "language_info": {
   "codemirror_mode": {
    "name": "ipython",
    "version": 3
   },
   "file_extension": ".py",
   "mimetype": "text/x-python",
   "name": "python",
   "nbconvert_exporter": "python",
   "pygments_lexer": "ipython3",
   "version": "3.10.12"
  },
  "toc-autonumbering": false,
  "toc-showmarkdowntxt": false
 },
 "nbformat": 4,
 "nbformat_minor": 5
}
