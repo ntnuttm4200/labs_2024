{
 "cells": [
  {
   "cell_type": "markdown",
   "id": "08d1e6e6-04ed-4ba0-892d-a3ba51667353",
   "metadata": {
    "tags": []
   },
   "source": [
    "# Lab 4 Part 2 — Transport Layer (Reliable Transport Protocol)"
   ]
  },
  {
   "cell_type": "markdown",
   "id": "27f3ad02-6b4c-4f40-8fb0-f2079d96f9a9",
   "metadata": {
    "tags": []
   },
   "source": [
    "The goal of this lab is to introduce you to reliable transport protocols. First, you will implement a simple UDP sender and receiver as a baseline representing an unreliable transport protocol. Then, you will implement a reliable transport protocol on top of UDP.\n",
    "\n",
    "Your protocol implementation should provide reliable data transfer between two hosts and handle network scenarios such as packet loss, packet corruption, and delayed packets. As an example, you will implement the Go-Back-N protocol. \n",
    "\n",
    "For delivery, submit a PDF report where you answer **only** those questions marked with **REPORT**.\n",
    "\n",
    "## Lab Setup\n",
    "\n",
    "Use the same setup as in Lab 4 Part 1 (run `docker-compose up -d` if needed and change the routing accordingly).\n",
    "\n",
    "In detail, you will use:\n",
    "\n",
    "- the \"server\" container as your sender.\n",
    "- your \"ntnu_server\" as your receiver.\n",
    "- the \"router\" container to emulate packet loss, corruption, and delay."
   ]
  },
  {
   "cell_type": "code",
   "execution_count": null,
   "id": "d1adb18d-06ad-48c0-8fe9-c777a0685a85",
   "metadata": {},
   "outputs": [],
   "source": [
    "from test_lab4_part2 import TestLab4_part2\n",
    "check_progress = TestLab4_part2()\n",
    "check_progress.test_1_1()"
   ]
  },
  {
   "cell_type": "markdown",
   "id": "327f3c77-d6c2-44c3-ac6f-6bd31bba914e",
   "metadata": {
    "tags": []
   },
   "source": [
    "# Milestone 1 — Unreliable UDP"
   ]
  },
  {
   "cell_type": "markdown",
   "id": "8185fd88",
   "metadata": {
    "tags": []
   },
   "source": [
    "In this milestone, you will implement a simple UDP sender and receiver as a baseline representing an unreliable transport protocol. For simplicity, the sender reads data from a file, makes a packet for each line, and sends it to the receiver. The receiver receives the packet and writes it into a file."
   ]
  },
  {
   "cell_type": "markdown",
   "id": "f2534f97-f91b-482f-8431-751299b5bf7e",
   "metadata": {
    "tags": []
   },
   "source": [
    "## Task 1.1 — UDP Sender"
   ]
  },
  {
   "cell_type": "markdown",
   "id": "c192598b-ece5-4a1f-a6fb-889b6d675316",
   "metadata": {},
   "source": [
    "You can find a skeleton code for the UDP sender in the file `udp_sender.py`. You need to complete the missing parts that are marked with `=== YOUR CODE HERE ===`."
   ]
  },
  {
   "cell_type": "markdown",
   "id": "e7e4b1cd",
   "metadata": {},
   "source": [
    "```python\n",
    "\n",
    "# Packet class\n",
    "class Packet:\n",
    "    # This class creates an abstraction for data packets.\n",
    "    # We call it 'packet' and not 'segment' for consistency with the examples in the book (page 231)\n",
    "\n",
    "(...)\n",
    "  \n",
    "\n",
    "# UDP sender class\n",
    "class UDP_Sender:\n",
    "    \n",
    "    # This class shall handle\n",
    "    # - socket creation, binding and loading data 'from above', which is a text file  (in `def __init__`)\n",
    "    # - sending packets (in `def udt_send`)\n",
    "    # - adding data into packets (in `def make_pkt`)\n",
    "    # - the main thread that must be called to run() everything (in `def run`)\n",
    "    #   This mean processing data from 'above' and send it.\n",
    "    #   After there's no more data from 'above', the string 'EOT' is sent.\n",
    "    #   Finally, it releases reserved resources\n",
    "    \n",
    "(...)    \n",
    "\n",
    "\n",
    "if __name__ == '__main__':\n",
    "        \n",
    "    # This is the main method called by python when you run your code\n",
    "    # You will have to\n",
    "    # - set the necessary variables for the UDP_Sender class above\n",
    "    # - create a new instance of that class\n",
    "    # - start the main thread\n",
    "\n",
    "(...)\n",
    "```\n"
   ]
  },
  {
   "cell_type": "markdown",
   "id": "76dfc1a9-5e28-4f77-8a37-96363d39604b",
   "metadata": {},
   "source": [
    "## Task 1.2 — UDP Receiver"
   ]
  },
  {
   "cell_type": "markdown",
   "id": "57331d61",
   "metadata": {},
   "source": [
    "You can find a skeleton code for the UDP receiver in the file `udp_receiver.py`. You need to complete the missing parts that are marked with `=== YOUR CODE HERE ===`.\n",
    "\n",
    "Below you can follow a general description of that file."
   ]
  },
  {
   "cell_type": "markdown",
   "id": "43cf68e7",
   "metadata": {},
   "source": [
    "```python\n",
    "\n",
    "\n",
    "# Packet class\n",
    "class Packet:\n",
    "    # This class creates an abstraction for data packets.\n",
    "    # We call it 'packet' and not 'segment' for consistency with the examples in the book (page 231)\n",
    "\n",
    "(...)\n",
    "\n",
    "# UDP receiver class\n",
    "class UDP_Receiver:\n",
    "    \n",
    "    # This class shall handle\n",
    "    # - socket creation (in `def __init__`)\n",
    "    # - receiving packets (in `def rdt_recv`)\n",
    "    # - extract data from packets (in `def extract`)\n",
    "    # - deliver data to the upper layer, which in our case is writing to a file (in `def deliver_data`)\n",
    "    # - the main thread that must be called to run() everything (in `def run`)\n",
    "    #   This mean waiting until data is received or until there is a timeout.\n",
    "    #   After extraction, if the received data is the string 'EOT' it will stop and close the file\n",
    "    #   If not, it will deliver the received data\n",
    "    #   Finally, it releases reserved resources\n",
    "    \n",
    "(...)\n",
    "    \n",
    "    \n",
    "if __name__ == '__main__':\n",
    "        \n",
    "    # This is the main method called by python when you run your code\n",
    "    # You will have to\n",
    "    # - set the necessary variables for the UDP_Receiver class above\n",
    "    # - create a new instance of that class\n",
    "    # - start the main thread\n",
    "\n",
    "(...)\n",
    "```\n"
   ]
  },
  {
   "cell_type": "markdown",
   "id": "a64d5615-456b-4927-a45a-0a91915ebc29",
   "metadata": {},
   "source": [
    "## Task 1.3 — Run UDP Sender and Receiver"
   ]
  },
  {
   "cell_type": "markdown",
   "id": "3eb38812",
   "metadata": {},
   "source": [
    "- Run the \"udp_receiver.py\" on the \"ntnu_server\".\n",
    "- Run the \"udp_sender.py\" on the \"server\" container.\n",
    "- Check that the sender and receiver are working correctly. There should be a \"data.txt\" file in the \"ntnu_server\". The file's content should be the same as the \"/home/ttm4200/work_dir/data.txt\" file in the \"server\" container.\n"
   ]
  },
  {
   "cell_type": "markdown",
   "id": "dc4fca30-4838-4817-8314-0a2c5e4af2ec",
   "metadata": {
    "tags": []
   },
   "source": [
    "## Task 1.4 — Run UDP Sender and Receiver with Packet Loss"
   ]
  },
  {
   "cell_type": "markdown",
   "id": "761876d5-c0b9-410e-ae9e-17bceefec97a",
   "metadata": {},
   "source": [
    "- On the \"router\" container, introduce 50% packet loss:\n",
    "\n",
    "  <div style=\"background: #ffffff; overflow:auto;width:auto;border:solid gray;border-width:.1em .1em .1em .8em;padding:.2em .6em;\"><pre style=\"margin: 0; line-height: 125%\">sudo tc qdisc add dev ether0 root netem loss 50%\n",
    "</pre></div>\n",
    "\n",
    "- Run your UDP sender and receiver.\n",
    "- Check the content of the \"data.txt\" file in the \"ntnu_server\" and compare it with the \"/home/ttm4200/work_dir/data.txt\" file in the \"server\" container.\n",
    "- Remove the packet loss:\n",
    "\n",
    "  <div style=\"background: #ffffff; overflow:auto;width:auto;border:solid gray;border-width:.1em .1em .1em .8em;padding:.2em .6em;\"><pre style=\"margin: 0; line-height: 125%\">sudo tc qdisc del dev ether0 root\n",
    "</pre></div>\n",
    "\n",
    "<span style=\"font-size: 25px;\">Q1. </span> **REPORT**: Draw a sequence diagram of your implementation's operation under packet loss. Briefly explain your sequence diagram."
   ]
  },
  {
   "cell_type": "markdown",
   "id": "557e67c4",
   "metadata": {},
   "source": [
    "## Task 1.5 — Run UDP Sender and Receiver with Packet Corruption\n"
   ]
  },
  {
   "cell_type": "markdown",
   "id": "902d11c7",
   "metadata": {},
   "source": [
    "- On the \"router\" container, introduce 50% packet corruption:\n",
    "\n",
    "  <div style=\"background: #ffffff; overflow:auto;width:auto;border:solid gray;border-width:.1em .1em .1em .8em;padding:.2em .6em;\"><pre style=\"margin: 0; line-height: 125%\">sudo tc qdisc add dev ether0 root netem corrupt 50%\n",
    "</pre></div>\n",
    "\n",
    "- Run your UDP sender and receiver.\n",
    "- Check the content of the \"data.txt\" file in the \"ntnu_server\" and compare it with the \"/home/ttm4200/work_dir/data.txt\" file in the \"server\" container.\n",
    "\n",
    "<span style=\"font-size: 25px;\">Q2. </span> **REPORT**: Do you see corrupted lines in the \"data.txt\" file in the \"ntnu_server\"? Or do you see missing lines? Why?\n",
    "\n",
    "<span style=\"font-size: 25px;\">Q3. </span> **REPORT**: Draw a sequence diagram of your implementation's operation under packet corruption. Briefly explain your sequence diagram.\n",
    "\n",
    "- Remove the packet corruption:\n",
    "\n",
    "  <div style=\"background: #ffffff; overflow:auto;width:auto;border:solid gray;border-width:.1em .1em .1em .8em;padding:.2em .6em;\"><pre style=\"margin: 0; line-height: 125%\">sudo tc qdisc del dev ether0 root\n",
    "</pre></div>\n"
   ]
  },
  {
   "cell_type": "markdown",
   "id": "598bf1c4-179e-425e-aa01-1013a026be53",
   "metadata": {
    "tags": []
   },
   "source": [
    "# Milestone 2 — Go-Back-N Protocol"
   ]
  },
  {
   "cell_type": "markdown",
   "id": "70d9c110-b48a-4623-bbb1-cdadcec7a643",
   "metadata": {},
   "source": [
    "In this milestone, you will improve the reliability of your transport protocol by implementing the Go-Back-N protocol. Your implementation should follow the FSM (Finite State Machine) shown in the book (Figure 3.20 and Figure 3.21)."
   ]
  },
  {
   "cell_type": "markdown",
   "id": "28710faa-43c1-4288-b4db-19802a5b8619",
   "metadata": {},
   "source": [
    "## Task 2.1 — GBN Sender"
   ]
  },
  {
   "cell_type": "markdown",
   "id": "a25e2f77-495f-46c2-b4aa-f92c07a9de0a",
   "metadata": {},
   "source": [
    "You can find a skeleton code for the GBN sender in the file `gbn_sender.py`. You need to complete the missing parts that are marked with `=== YOUR CODE HERE ===`. Follow the FSM and the circles in [Figure 1](#figure_1) for hints.\n",
    "\n",
    "<a id='figure_1'></a>\n",
    "\n",
    "|<img style=\"max-width: 85%; max-height: 720px\" src=\"figures_2023/sender2.png\" width=\"75%\"/>|\n",
    "|:--:|\n",
    "| **Figure 1: GBN sender (Kurose, J. and Ross, K)** |"
   ]
  },
  {
   "cell_type": "markdown",
   "id": "7d9d9118-1fbe-4434-8269-009c38e847aa",
   "metadata": {},
   "source": [
    "<div class=\"alert alert-block alert-info\">\n",
    "<b>Tip:</b> Open the file <code>gbn_sender.py</code> in your favourite editor and <b>read through the code first</b> while you analyse the FSM (there are comments in the code that will guide you).</div>"
   ]
  },
  {
   "cell_type": "markdown",
   "id": "fd39c86c-bf2f-459a-be14-a26b31d73573",
   "metadata": {},
   "source": [
    "## Task 2.2 — GBN Receiver"
   ]
  },
  {
   "cell_type": "markdown",
   "id": "e95299d1",
   "metadata": {},
   "source": [
    "You can find a skeleton code for the GBN in the file `gbn_receiver.py`. You need to complete the missing parts that are marked with `=== YOUR CODE HERE ===`. Follow the FSM and the circles in [Figure 2](#figure_2) for hints.\n",
    "\n",
    "<a id='figure_2'></a>\n",
    "\n",
    "|<img style=\"max-width: 75%; max-height: 720px\" src=\"figures_2023/receiver2.png\" />|\n",
    "|:--:|\n",
    "| **Figure 2: GBN receiver (Kurose, J. and Ross, K)** |"
   ]
  },
  {
   "cell_type": "markdown",
   "id": "b3ace25d-14d7-47ec-803a-0bb7c2b1b13d",
   "metadata": {},
   "source": [
    "<div class=\"alert alert-block alert-info\">\n",
    "<b>Tip:</b> Open the file <code>gbn_receiver.py</code> in your favourite editor and <b>read through the code first</b> while you analyse the FSM (there are comments in the code that will guide you).</div>"
   ]
  },
  {
   "cell_type": "markdown",
   "id": "95727c3a-cdf9-4a95-9df4-dcab20c0a7b9",
   "metadata": {},
   "source": [
    "## Task 2.3 — Run GBN Sender and Receiver"
   ]
  },
  {
   "cell_type": "markdown",
   "id": "3de5a1fb",
   "metadata": {},
   "source": [
    "- Run the \"gbn_receiver.py\" script on the \"ntnu_server\".\n",
    "- Run the \"gbn_sender.py\" script on the \"server\" container.\n",
    "- Check that the sender and receiver are working properly. Compare the content of the \"data.txt\" file on the \"ntnu_server\" with the \"/home/ttm4200/work_dir/data.txt\" file on the \"server\" container. They should be the same."
   ]
  },
  {
   "cell_type": "code",
   "execution_count": null,
   "id": "8d162822-e900-4c10-8bed-432087cd3581",
   "metadata": {},
   "outputs": [],
   "source": [
    "from test_lab4_part2 import TestLab4_part2\n",
    "check_progress = TestLab4_part2()\n",
    "check_progress.test_1_2()"
   ]
  },
  {
   "cell_type": "markdown",
   "id": "6c69f639-c01c-48b5-9ea3-317c25db2fa0",
   "metadata": {},
   "source": [
    "## Task 2.4 — Run GBN Sender and Receiver with Packet Loss"
   ]
  },
  {
   "cell_type": "markdown",
   "id": "7ea609c4",
   "metadata": {},
   "source": [
    "- On the \"router\" container, introduce 50% packet loss:\n",
    "\n",
    "  <div style=\"background: #ffffff; overflow:auto;width:auto;border:solid gray;border-width:.1em .1em .1em .8em;padding:.2em .6em;\"><pre style=\"margin: 0; line-height: 125%\">sudo tc qdisc add dev ether0 root netem loss 50%\n",
    "</pre></div>\n",
    "\n",
    "- Run your GBN sender and receiver.\n",
    "- Check the content of the \"data.txt\" file in the \"ntnu_server\" and compare it with the \"/home/ttm4200/work_dir/data.txt\" file in the \"server\" container. They should be the same.\n",
    "- Remove the packet loss:\n",
    "\n",
    "  <div style=\"background: #ffffff; overflow:auto;width:auto;border:solid gray;border-width:.1em .1em .1em .8em;padding:.2em .6em;\"><pre style=\"margin: 0; line-height: 125%\">sudo tc qdisc del dev ether0 root\n",
    "</pre></div>\n",
    "\n",
    "<span style=\"font-size: 25px;\">Q4. </span> **REPORT**: Draw a sequence diagram of your GBN implementation's operation under packet loss. Briefly explain your sequence diagram."
   ]
  },
  {
   "cell_type": "markdown",
   "id": "9f384051",
   "metadata": {},
   "source": [
    "## Task 2.5 — Run GBN Sender and Receiver with Packet Corruption\n",
    "\n",
    "- On the \"router\" container, introduce 50% packet corruption:\n",
    "\n",
    "  <div style=\"background: #ffffff; overflow:auto;width:auto;border:solid gray;border-width:.1em .1em .1em .8em;padding:.2em .6em;\"><pre style=\"margin: 0; line-height: 125%\">sudo tc qdisc add dev ether0 root netem corrupt 50%\n",
    "</pre></div>\n",
    "\n",
    "- Run your GBN sender and receiver.\n",
    "- Check the content of the \"data.txt\" file in the \"ntnu_server\" and compare it with the \"/home/ttm4200/work_dir/data.txt\" file in the \"server\" container. They should be the same.\n",
    "- Remove the packet corruption:\n",
    "\n",
    "  <div style=\"background: #ffffff; overflow:auto;width:auto;border:solid gray;border-width:.1em .1em .1em .8em;padding:.2em .6em;\"><pre style=\"margin: 0; line-height: 125%\">sudo tc qdisc del dev ether0 root\n",
    "</pre></div>\n",
    "\n",
    "<span style=\"font-size: 25px;\">Q5. </span> **REPORT**: Draw a sequence diagram of your GBN implementation's operation under packet corruption. Briefly explain your sequence diagram.\n",
    "\n",
    "<span style=\"font-size: 25px;\">Q6. </span> **REPORT**: Does the \"notcorrupt()\" function in the \"gbn_receiver.py\" ever return \"False\" when running your implementation? Why or why not?\n"
   ]
  },
  {
   "cell_type": "markdown",
   "id": "7aa8d5e3-c77a-4b85-aa01-45133bee0cf0",
   "metadata": {},
   "source": [
    "## Task 2.6 — Run GBN Sender and Receiver with Packet Delay (extra)"
   ]
  },
  {
   "cell_type": "markdown",
   "id": "a70b3d21",
   "metadata": {},
   "source": [
    "The `timeout` process included in the given skeleton is an approximation and has some limitations.\n",
    "In this task the goal is to explore the behaviour connected to packet delay in the network and the \"TIMEOUT\" variable used in your \"gbn_sender.py\". \n",
    "\n",
    "- On the \"router\" container, introduce a delay **higher** than the \"TIMEOUT\" value in your \"gbn_sender.py\":\n",
    "\n",
    "  <div style=\"background: #ffffff; overflow:auto;width:auto;border:solid gray;border-width:.1em .1em .1em .8em;padding:.2em .6em;\"><pre style=\"margin: 0; line-height: 125%\">sudo tc qdisc add dev ether0 root netem delay [DELAY]s\n",
    "</pre></div>\n",
    "\n",
    "- Run your GBN sender and receiver.\n",
    "- Check the content of the \"data.txt\" file in the \"ntnu_server\" and compare it with the \"/home/ttm4200/work_dir/data.txt\" file in the \"server\" container. They should be the same.\n",
    "- Remove the packet delay:\n",
    "\n",
    "  <div style=\"background: #ffffff; overflow:auto;width:auto;border:solid gray;border-width:.1em .1em .1em .8em;padding:.2em .6em;\"><pre style=\"margin: 0; line-height: 125%\">sudo tc qdisc del dev ether0 root\n",
    "</pre></div>\n",
    "\n",
    "<span style=\"font-size: 25px;\">Q7. </span> **EXTRA CREDIT**: Draw a sequence diagram of your GBN implementation's operation under packet delay, explain what happens, and what are the limitations of our implementation."
   ]
  },
  {
   "cell_type": "markdown",
   "id": "a21703ae-feec-4d0e-87c9-5c8d86fec2d9",
   "metadata": {},
   "source": [
    "## Optional Exercise "
   ]
  },
  {
   "cell_type": "markdown",
   "id": "ae5e7734",
   "metadata": {},
   "source": [
    "We implemented a simple end-of-transmission (EOT) mechanism in the GBN. However, this is not a reliable mechanism. If the EOT packet is lost, the receiver will wait for the EOT packet until the timeout occurs.\n",
    "\n",
    "<span style=\"font-size: 25px;\">Q8. </span> **EXTRA CREDIT**: Implement a reliable EOT mechanism in the GBN. This mechanism should handle the case where the EOT packet is lost."
   ]
  }
 ],
 "metadata": {
  "kernelspec": {
   "display_name": "Python 3 (ipykernel)",
   "language": "python",
   "name": "python3"
  },
  "language_info": {
   "codemirror_mode": {
    "name": "ipython",
    "version": 3
   },
   "file_extension": ".py",
   "mimetype": "text/x-python",
   "name": "python",
   "nbconvert_exporter": "python",
   "pygments_lexer": "ipython3",
   "version": "3.10.12"
  }
 },
 "nbformat": 4,
 "nbformat_minor": 5
}
