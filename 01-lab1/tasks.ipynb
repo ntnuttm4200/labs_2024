{
 "cells": [
  {
   "cell_type": "markdown",
   "id": "d6a64b6e-518f-486a-8006-229e58309cdc",
   "metadata": {},
   "source": [
    "## Introduction\n",
    "\n",
    "The goal of this lab is to experiment with the tools you are going to use in this course, including `docker`, `docker-compose`, `tcpdump`, Wireshark, and `tmux`. \n",
    "\n",
    "The lab has several **milestones**. \n",
    "Make sure you complete each one before advancing to the next. \n",
    "The lab has also several **optional** tasks. \n",
    "Those are not mandatory, but are intended for those who want to learn more.\n",
    "\n",
    "There are subsections in each milestone, followed by a unit test. \n",
    "Run these tests to ensure that you finished the tasks in that subsection.\n"
   ]
  },
  {
   "cell_type": "markdown",
   "id": "789ea493-33fb-4735-b688-48708eb20876",
   "metadata": {
    "tags": []
   },
   "source": [
    "# Milestone 1 -- Getting Started with Docker\n",
    "\n",
    "In this lab, you should get acquainted with [Docker](https://docs.docker.com/) (<https://docs.docker.com/>), since we will use it extensively in all future labs.\n",
    "Read this [overview](https://docs.docker.com/engine/docker-overview/) (<https://docs.docker.com/engine/docker-overview/>) to get an idea of what Docker is.\n",
    "\n",
    "By the end of this milestone, you will build a system, as shown in [figure 1](#figure_1) and [figure 2](#figure_2). \n",
    "Refer back to these figures as often as needed to understand how the lab is constructed.\n",
    "\n",
    "\n",
    "<a id='figure_1'></a>\n",
    "\n",
    "|<img src=\"figures/docker.jpg\" width=\"800\" height=\"800\" />|\n",
    "|:--:| \n",
    "| *Figure 1: Docker Image, Containers, and Networks* |\n",
    "\n",
    "\n",
    "<a id='figure_2'></a>\n",
    "|<img src=\"figures/ssh.jpg\" width=\"800\" height=\"800\" />|\n",
    "|:--:| \n",
    "| *Figure 2: Docker Attach, SSH,  Port Mapping, and Volumes* |"
   ]
  },
  {
   "cell_type": "markdown",
   "id": "21da4eea-f41e-4e82-b8b2-298c4c764167",
   "metadata": {
    "tags": []
   },
   "source": [
    "## 1.1 [Creating Docker Images](https://docs.docker.com/engine/reference/commandline/images/)\n",
    "\n",
    "To build a docker image, we need to write a [Dockerfile](https://docs.docker.com/engine/reference/builder/) (<https://docs.docker.com/engine/reference/builder/>) that contains all the commands for assembling an image. In this course, **all Dockerfiles will be provided to you**. \n",
    "We will always build our images on top of [Ubuntu](https://hub.docker.com/_/ubuntu/).\n",
    "   >_All the provided commands in this lab assume that your present working directly (`pwd`) is \"/home/ttm4200/labs/01-lab1\", and they won't work if you are inside another directory._\n",
    "\n",
    "* Build an image from the Dockerfile in the directory named \"ttm4200_base\" (it will take some time):\n",
    "\n",
    "```bash\n",
    "docker build --tag ttm4200_base ./ttm4200_base/\n",
    "```\n",
    "\n",
    "* Check how many images are built locally:\n",
    "\n",
    "```bash\n",
    "docker images\n",
    "```"
   ]
  },
  {
   "cell_type": "code",
   "execution_count": null,
   "id": "b0c44e54-1753-4441-b7d2-3c6b4e90bfbc",
   "metadata": {},
   "outputs": [],
   "source": [
    "from test_lab1 import TestLab1\n",
    "check_progress = TestLab1()\n",
    "check_progress.test_1_1()"
   ]
  },
  {
   "cell_type": "markdown",
   "id": "725864c3-4c50-4a64-a290-c5dc911519ac",
   "metadata": {
    "tags": []
   },
   "source": [
    "## 1.2 [Running Containers](https://docs.docker.com/engine/reference/run/)\n",
    "\n",
    "* Run a container and name it \"container1\" from the image you have just built. \n",
    "Run the container interactively and in the background (detached mode):\n",
    "\n",
    "  <div style=\"background: #f0f3f3; overflow:auto;width:auto;border:solid gray;border-width:.1em .1em .1em .8em;padding:.2em .6em;\"><pre style=\"margin: 0; line-height: 125%\">docker run --interactive --tty --detach --name=container1 --hostname=container1 ttm4200_base\n",
    "  </pre></div><br>\n",
    "\n",
    "* Check the list of containers in your VM:\n",
    "\n",
    "  `docker ps --all`\n",
    "\n",
    "* Attach a terminal to the container. \n",
    "This will allow you to control the container interactively in your terminal.\n",
    "\n",
    "  `docker attach container1`\n",
    "\n",
    "  <div class=\"alert alert-block alert-info\">\n",
    "  <b>Tip:</b> The password for the root user inside the container is set to \"ttm4200\".</div>\n",
    "\n",
    "\n",
    "* Check the container IP address, MAC address, routing table, and ARP table.\n",
    "\n",
    "  <div style=\"background: #f0f3f3; overflow:auto;width:auto;border:solid gray;border-width:.1em .1em .1em .8em;padding:.2em .6em;\"><pre style=\"margin: 0; line-height: 125%\">ip address\n",
    "  ip link\n",
    "  ip route\n",
    "  ip neighbor\n",
    "  </pre></div><br>\n",
    "\n",
    "\n",
    "  <div class=\"alert alert-block alert-info\">\n",
    "  <b>Tip:</b> By default, Docker uses the 172.17.0.0/16 subnet for container networking and assigns the first address (172.17.0.1) to the host (the machine which is running Docker daemon, the VM in your case).</div>\n",
    "\n",
    "* Answer the following questions in the next cell:\n",
    "    * What is the IP address of the \"eth0\" interface in 'container1'?\n",
    "    * What is the MAC address \"eth0\" interface in 'container1'?\n",
    "    * What is the default gateway in 'container1'?"
   ]
  },
  {
   "cell_type": "code",
   "execution_count": null,
   "id": "a522bfaa-4f5a-4c1a-b808-189e2175daff",
   "metadata": {},
   "outputs": [],
   "source": [
    "# What is the IP address of the \"eth0\" interface in 'container1'?\n",
    "eth0_ip_address =  #your answer (in a string)\n",
    "\n",
    "# What is the MAC address \"eth0\" interface in 'container1'?\n",
    "eth0_mac_address =  #your answer (in a string)\n",
    "\n",
    "# What is the default gateway in 'container1'?\n",
    "default_gateway =  #your answer (in a string)\n",
    "\n",
    "\n",
    "check_progress.test_1_2(eth0_ip_address, eth0_mac_address, default_gateway)"
   ]
  },
  {
   "cell_type": "markdown",
   "id": "aa318b54-58d0-45cd-8e41-d812aecc4d01",
   "metadata": {},
   "source": [
    "* Check the container's ARP table with the command `ip neighbor`\n",
    "\n",
    "* Ping the Docker host, then check again the ARP table.\n",
    "Do you see any difference?\n",
    "\n",
    "* Detach from the container (press `Ctrl+p ` followed by `Ctrl+q`).\n",
    "This will turn the container from interactive mode into daemon mode.\n",
    "\n",
    "  >_If you press `Ctrl+d` or type `exit`, you will kill the container. This is one of the common pitfalls (especially in later labs)._\n",
    "\n",
    ">_**Note**: You need to run all the containers from your Virtual Machine (ntnu_server)._"
   ]
  },
  {
   "cell_type": "markdown",
   "id": "9571ca00-bfa1-465d-be35-a65b445e76b4",
   "metadata": {},
   "source": [
    "## 1.3 [Docker Network](https://docs.docker.com/network/)\n",
    "\n",
    "\n",
    "* Create a new docker network with a specific name and subnet:\n",
    "\n",
    "  <div style=\"background: #f0f3f3; overflow:auto;width:auto;border:solid gray;border-width:.1em .1em .1em .8em;padding:.2em .6em;\"><pre style=\"margin: 0; line-height: 125%\">docker network create --subnet=10.20.30.0/24 ttm4200_net\n",
    "  </pre></div><br>\n",
    "\n",
    "* Run a second container (name it \"container2\") and connect it to the new network, and assign it a static IP address:\n",
    "\n",
    "  <div style=\"background: #f0f3f3; overflow:auto;width:auto;border:solid gray;border-width:.1em .1em .1em .8em;padding:.2em .6em;\"><pre style=\"margin: 0; line-height: 125%\">docker run -itd --name=container2 --hostname=container2 --net=ttm4200_net --ip=10.20.30.11 ttm4200_base\n",
    "  </pre></div><br>\n",
    "\n",
    "* Check the list of docker networks in  your VM:\n",
    "\n",
    "    ```bash\n",
    "    docker network ls\n",
    "    ```\n"
   ]
  },
  {
   "cell_type": "code",
   "execution_count": null,
   "id": "e910c3ee-374e-4742-9491-399f12796ea5",
   "metadata": {},
   "outputs": [],
   "source": [
    "check_progress.test_1_3()"
   ]
  },
  {
   "cell_type": "markdown",
   "id": "ad624dd8-2ff9-4803-81c8-a4e438b81b91",
   "metadata": {
    "tags": []
   },
   "source": [
    "## 1.4 [SSH](https://www.baeldung.com/cs/ssh-intro)\n",
    "\n",
    "* Connect to the \"container2\" via SSH. The ssh server is already installed and configured in the Dockerfile. \n",
    "It is configured to accept only a public key authentication to the user \"ttm4200\", and the private key is already in the VM (\"/home/ttm4200/.ssh/ttm4200_vm_key\"). You can connect directly using the container ip address:\n",
    "\n",
    "  <div style=\"background: #f0f3f3; overflow:auto;width:auto;border:solid gray;border-width:.1em .1em .1em .8em;padding:.2em .6em;\"><pre style=\"margin: 0; line-height: 125%\">ssh -i ~/.ssh/ttm4200_vm_key ttm4200@10.20.30.11\n",
    "  </pre></div><br>\n",
    "\n",
    "* To avoid typing the username and the keyname every time you connect to the containers, you can add the following lines to the `~/.ssh/config` file in your server (Virtual Machine) (create it, if it is not already there):\n",
    "\n",
    "  <div style=\"background: #f0f3f3; overflow:auto;width:auto;border:solid gray;border-width:.1em .1em .1em .8em;padding:.2em .6em;\"><pre style=\"margin: 0; line-height: 125%\">Host 10.* 127.*\n",
    "      User ttm4200\n",
    "      IdentityFile ~/.ssh/ttm4200_vm_key\n",
    "  </pre></div><br>\n",
    "  \n",
    ">_This will allow you to connect to the containers with `ssh <ip_address>`._"
   ]
  },
  {
   "cell_type": "code",
   "execution_count": null,
   "id": "6e35c2f4-d4be-484b-a328-342fea4cdb83",
   "metadata": {},
   "outputs": [],
   "source": [
    "check_progress.test_1_4()"
   ]
  },
  {
   "cell_type": "markdown",
   "metadata": {},
   "source": [
    ">_To exit the container that you connected to via SSH, press `Ctrl+c` or `exit`._"
   ]
  },
  {
   "cell_type": "markdown",
   "id": "df661c96-f8f1-4f30-8d88-4fd93e814ee1",
   "metadata": {},
   "source": [
    "## 1.5 [Publishing Container's Ports](https://docs.docker.com/config/containers/container-networking/)\n",
    "\n",
    "By default, a container does not make its port available to the outside world (or the Docker host).\n",
    "To do so, you have to map a container's port to a port on the Docker Host.\n",
    "\n",
    "* Run a third container (\"container3\") and bind its SSH port to an unused port in your Docker Host (preferably a number above 1024, to avoid conflicts), and make it listen on localhost only (127.0.0.1).\n",
    "\n",
    "  <div style=\"background: #f0f3f3; overflow:auto;width:auto;border:solid gray;border-width:.1em .1em .1em .8em;padding:.2em .6em;\"><pre style=\"margin: 0; line-height: 125%\">docker run -itd --name=container3 --hostname=container3 --net=ttm4200_net --ip=10.20.30.12 -p 127.0.0.1:3000:22 ttm4200_base\n",
    "  </pre></div><br>\n",
    "\n",
    "    >_If you don't specify 127.0.0.1 in the port mapping, it will publish the port on all interfaces of the Docker Host (0.0.0.0). \n",
    "    This is less ideal from a security perspective._\n",
    "\n",
    "\n",
    "* Check the list of containers in your VM, and notice the mapped ports in \"container3\" ([read more on this link](https://stackoverflow.com/questions/41798284/understanding-docker-port-mappings#answer-41798376)):\n",
    "\n",
    "    ```bash\n",
    "    docker ps --all\n",
    "    ```\n",
    "\n",
    "\n",
    "* Connect to the container using SSH, but using the published port on the localhost of Docker Host:\n",
    "\n",
    "    ```bash\n",
    "    ssh ttm4200@127.0.0.1 -p 3000\n",
    "    ```\n"
   ]
  },
  {
   "cell_type": "code",
   "execution_count": null,
   "id": "455eb012-ec8a-4b5c-8444-d4070a4db6eb",
   "metadata": {},
   "outputs": [],
   "source": [
    "# Remain connected to container3 via SSH before checking your progress\n",
    "check_progress.test_1_5()"
   ]
  },
  {
   "cell_type": "markdown",
   "id": "47c22d6a-f09a-486a-aa2f-50542de9f1d5",
   "metadata": {
    "tags": []
   },
   "source": [
    "## 1.6 [Docker Volumes](https://docs.docker.com/storage/volumes/)\n",
    "\n",
    "To preserve data generated by a container, you can copy them to your host machine or use *Volumes* for persisting data. \n",
    "A Docker volume is a mechanism to mount a file system (directory) between a Docker host and a container. \n",
    "Thus, any data generated will be stored automatically in your host machine.\n",
    "\n",
    "* Run a fourth container (\"container4\") and mount the \"ttm4200_base\" directory to a directory in the container:\n",
    "    \n",
    "    ```bash\n",
    "    docker run -itd --name=container4 --hostname=container4 --net=ttm4200_net --ip=10.20.30.13 -p 127.0.0.1:4000:22 -v $(pwd)/ttm4200_base:/home/ttm4200/work_dir ttm4200_base\n",
    "    ```\n",
    "\n",
    "* Connect to the container (e.g., using SSH) and create an empty file named 'task1_6.txt' in the path '/home/ttm4200/work_dir'.\n",
    "\n",
    "  <div style=\"background: #f0f3f3; overflow:auto;width:auto;border:solid gray;border-width:.1em .1em .1em .8em;padding:.2em .6em;\"><pre style=\"margin: 0; line-height: 125%\"><span style=\"color: #0099FF; font-style: italic\"># inside the container</span>\n",
    "  touch ~/work_dir/task1_6.txt\n",
    "  </pre></div>\n"
   ]
  },
  {
   "cell_type": "code",
   "execution_count": null,
   "id": "7ec1656b-8102-4a65-833c-5a24a04f3249",
   "metadata": {},
   "outputs": [],
   "source": [
    "check_progress.test_1_6()"
   ]
  },
  {
   "cell_type": "markdown",
   "id": "416c68c1-d619-4f4a-83b7-f0c6a0adfd4f",
   "metadata": {},
   "source": [
    "## 1.7 Cleanup\n",
    "\n",
    "* Stop and remove all the containers as well as the network.\n",
    "\n",
    "    ```bash\n",
    "    docker stop $(docker ps -aq)\n",
    "    \n",
    "    docker rm $(docker ps -aq)\n",
    "    \n",
    "    docker network prune\n",
    "    ```"
   ]
  },
  {
   "cell_type": "code",
   "execution_count": null,
   "id": "8820044d-b4c7-46d3-acfb-0db94d7cee15",
   "metadata": {},
   "outputs": [],
   "source": [
    "check_progress.test_1_7()"
   ]
  },
  {
   "cell_type": "markdown",
   "id": "658d1933-3653-47d2-984a-9b033736d7a4",
   "metadata": {},
   "source": [
    "# Milestone 2 -- Docker Compose\n",
    "\n",
    "In this course, we are going to use Docker extensively to build several different services using containers. \n",
    "For handling multiple containers at once, we need to use Docker Compose. \n",
    "In Docker Compose, we will create a YAML file to configure the application's services, and with a single command, we can create all the images and run the containers at once. Additionally, we will be able to stop and remove all containers and the network in a single command. \n",
    "For further reference, see the documentation from [docker-compose.yml](https://docs.docker.com/compose/compose-file/compose-file-v2/) (<https://docs.docker.com/compose/compose-file/compose-file-v2/>).\n",
    "\n",
    "## 2.1 Creating Docker Compose Files\n",
    "\n",
    "* Complete the 'docker-compose.yml' file that defines exactly all we did in Milestone 1 (see Figure 1 and Figure 2), specifically:\n",
    "\n",
    "    * Build an image, called \"ttm4200_base\", from the Dockerfile in the \"ttm4200_base\" directory\n",
    "    * Create a network, called \"ttm4200_net\", with the subnet \"10.20.30.0/24\".\n",
    "    * Run \"container1\" interactively, with a hostname of \"container1\", and connect it to the default network.\n",
    "    * Run \"container2\" interactively, with a hostname of \"container2\", and connected to \"ttm4200_net\". \n",
    "    Assign the IPv4 address based on Figure 1 or 2.\n",
    "    * Run \"container3\" interactively, with a hostname of \"container3\", connected to \"ttm4200_net\", and its SSH port mapped to a port in Docker Host.\n",
    "    Assign the IPv4 address based on Figure 1 or 2.\n",
    "    * Run \"container4\" interactively, with a hostname of \"container4\", connected to \"ttm4200_net\", its SSH port mapped to a port in Docker Host, and the \"ttm4200_base\" directory is mounted to \"/home/ttm4200/work_dir\" inside the container.\n",
    "    * Additionally, assign IPv6 addresses to containers connected to \"ttm4200_net\" within the subnet of \"fd00::/64\". For instance, you can assign \"fd00:11\" to container 2. \n",
    "    * To make things easier, the network, building the image, \"container1\" and \"container4\" are already configured. You must complete \"container2\" and \"container3\"!\n",
    "    \n",
    "<div class=\"alert alert-block alert-info\">\n",
    "<b>Tip:</b> The relevant areas are marked as TODO. Also, <b>DO NOT</b> use 'tabs', only spaces are allowed.</div>\n"
   ]
  },
  {
   "cell_type": "code",
   "execution_count": null,
   "id": "6c2dac80-3b74-4b43-b95b-61ce6e7e93c9",
   "metadata": {},
   "outputs": [],
   "source": [
    "%%writefile docker-compose.yml \n",
    "# The above command writes the code of this notebook cell into the file \n",
    "\n",
    "version: '2.3'\n",
    "#specify a custom network\n",
    "networks:\n",
    "#the name of the created network\n",
    "    ttm4200_net:\n",
    "        enable_ipv6: true\n",
    "        ipam:\n",
    "            config:\n",
    "                - subnet: 10.20.30.0/24\n",
    "                - subnet: \"fd00::/64\"\n",
    "\n",
    "services:\n",
    "\n",
    "    #Building the base image\n",
    "    image:\n",
    "        #Build an image from the Dockerfile in the \"ttm4200_base\" directory\n",
    "        build: ./ttm4200_base\n",
    "        #Name the image \"ttm4200_base\", and use it\n",
    "        image: ttm4200_base\n",
    "\n",
    "\n",
    "    container1:\n",
    "        #use the image \"ttm4200_base\"\n",
    "        image: ttm4200_base\n",
    "        #It will depends the service \"image\", that built the image\n",
    "        depends_on:\n",
    "            - \"image\"\n",
    "        #Name of the container \"container1\"\n",
    "        container_name: container1\n",
    "        #Name the host machine \"container1\"\n",
    "        hostname: container1\n",
    "        #Run in \"--interactive\" mode\n",
    "        stdin_open: true\n",
    "        #Run in \"--tty\", pseudo terminal\n",
    "        tty: true\n",
    "        # Add networking capabilities, instead of privileged\n",
    "        cap_add:\n",
    "            - NET_ADMIN\n",
    "\n",
    "    container2:\n",
    "    ################################################\n",
    "    # TODO: Your code here!\n",
    "\n",
    "\n",
    "    ################################################\n",
    "\n",
    "    container3:\n",
    "    ################################################\n",
    "    # TODO: Your code here!\n",
    "\n",
    "\n",
    "\n",
    "    ################################################\n",
    "\n",
    "    container4:\n",
    "        image: ttm4200_base\n",
    "        depends_on:\n",
    "            - \"image\"\n",
    "        container_name: container4\n",
    "        hostname: container4\n",
    "        stdin_open: true\n",
    "        tty: true\n",
    "        cap_add:\n",
    "            - NET_ADMIN\n",
    "        #map ssh port to a port on Docker Host (port 4000)\n",
    "        ports:\n",
    "            - \"127.0.0.1:4000:22\"\n",
    "        # mount the \"ttm4200_base\" directory on Docker Host to the container\n",
    "        volumes:\n",
    "            - ./ttm4200_base/:/home/ttm4200/work_dir\n",
    "        #Connect to the network (ttm4200_net and assign IPv4 and IPv6 addresses)\n",
    "        networks:\n",
    "            ttm4200_net:\n",
    "                ipv4_address: 10.20.30.13\n",
    "                ipv6_address: \"fd00::13\"\n"
   ]
  },
  {
   "cell_type": "code",
   "execution_count": null,
   "id": "fc12c598-432e-4fd0-8e1a-9ae9ea494a02",
   "metadata": {},
   "outputs": [],
   "source": [
    "check_progress.test_2_1()"
   ]
  },
  {
   "cell_type": "markdown",
   "id": "9152e569-9cb3-457b-b8bf-9401d1b72247",
   "metadata": {},
   "source": [
    "## 2.2 Running Docker Compose Files\n",
    "\n",
    "* Create and start the containers using the docker-compose file:\n",
    "    ```bash\n",
    "    docker-compose up -d --build\n",
    "    ```\n",
    "    \n",
    "    \n",
    "    The \"-d\" option is to run containers in the background (detached mode), and \"\\-\\-build\" is to build the images before starting containers.\n",
    "\n",
    "* Connect to the containers, as shown in figure 2.\n",
    "    ```bash\n",
    "    docker attach container1\n",
    "    ssh ttm4200@10.20.30.11\n",
    "    ssh ttm4200@127.0.0.1 -p 3000\n",
    "    ssh ttm4200@127.0.0.1 -p 4000\n",
    "    ```\n"
   ]
  },
  {
   "cell_type": "code",
   "execution_count": null,
   "id": "5fd3a02c-6660-4832-bd34-14bb2b68a970",
   "metadata": {},
   "outputs": [],
   "source": [
    "check_progress.test_2_2()"
   ]
  },
  {
   "cell_type": "markdown",
   "id": "3bb916af-6ce4-4e95-b74f-8de6d034ae58",
   "metadata": {},
   "source": [
    "# Milestone 3 -- Network Traffic Capture\n",
    "\n",
    "\n",
    "## 3.1 Terminal multiplexer (`tmux`)\n",
    "\n",
    "We will use [tmux](http://man.openbsd.org/OpenBSD-current/man1/tmux.1) (<http://man.openbsd.org/OpenBSD-current/man1/tmux.1>) to access multiple terminal sessions simultaneously in a single window.\n",
    "It lets you switch easily between several programs in one terminal. Additionally, you can detach and re-attach from sessions, thus allowing you to run sessions in the background. This is really helpful if you are working on a remote server. \n",
    "[Here](https://shortcutworld.com/tmux/linux/tmux_Shortcuts) (<https://shortcutworld.com/tmux/linux/tmux_Shortcuts>) are the most common `tmux` shortcuts.\n",
    "\n",
    "* In \"container4\", start a new `tmux` session (preferably a named session to distinguish between multiple sessions):\n",
    "\n",
    "    ```bash\n",
    "    tmux new -s [session_name]\n",
    "    ```\n",
    "\n",
    "* Create four panes as shown in Figure 6.\n",
    "\n",
    "    >_To execute a command in `tmux`, a prefix must be used before the command (`<prefix> + command`). By default, the prefix is `Ctrl+b`. \n",
    "    For example, to create a vertical split use `<prefix> + %`. \n",
    "    That is, you have to press the keys `Ctrl+b` followed by the command `%` (without the control key). To create a horizontal split use `<prefix> + \"`. \n",
    "    To move between panes use `<prefix> + Arrow Keys`.\n",
    "    To remove a pane use `<prefix> + x` and then `y+Enter`._ \n",
    "\n",
    "<!-- ![Tmux Panes](figures/tmux.png) -->\n",
    "\n",
    "\n",
    "\n",
    "|<img src=\"figures/tmux.png\"  width=\"700\" height=\"700\" />|\n",
    "|:--:| \n",
    "| *Figure 3: Tmux example* |\n",
    "\n",
    "* Detatch from the current session by using `<prefix> + d`.\n",
    "\n",
    "* **_Optional:_** If you feel that `tmux` key combinations are awkward, you can customize it according to your personal preferences. \n",
    "For example, to change the prefix from `Ctrl+b` to `Ctrl+a`, simply add the following lines to `tmux` configuration file (\".tmux.conf\") inside the user's home directory (\"/home/ttm4200\"):\n",
    "\n",
    "    ```bash\n",
    "    unbind C-b\n",
    "    set-option -g prefix C-a\n",
    "    bind-key C-a send-prefix\n",
    "    ```\n",
    "\n",
    "    And to change the command for vertical split from `%` to  `\\`, horizontal split from `\"` to `-`, add the following lines:\n",
    "\n",
    "    ```bash\n",
    "    bind-key \\ split-window -h\n",
    "    bind-key - split-window -v\n",
    "    ```\n",
    "\n",
    "    And you can do many interesting customizations such as fast pane-switching, pane-resizing, etc. \n",
    "    If you are interested see this [blog](https://www.hamvocke.com/blog/a-guide-to-customizing-your-tmux-conf/) (<https://www.hamvocke.com/blog/a-guide-to-customizing-your-tmux-conf/>). \n",
    "    For these changes to take effect, you have to exit from `tmux`, i.e., kill all active sessions.\n",
    "    In this course, to change the `tmux` configuration for all containers, you only need to change \".tmux.conf\" inside the folder from which the image is built (\"ttm4200_base\", in this case). \n",
    "    But you have to rebuild the image and containers for these configurations to take effect."
   ]
  },
  {
   "cell_type": "markdown",
   "id": "edda95dd-d04b-4b37-8e58-34dd1e9cd4df",
   "metadata": {
    "tags": []
   },
   "source": [
    "## 3.2 Traffic Capture\n",
    "\n",
    "To capture network traffic, we will use [tcpdump](https://www.tcpdump.org/manpages/tcpdump.1.html) (<https://www.tcpdump.org/manpages/tcpdump.1.html>), which is a command-line packet capturing utility that allows us to sniff, capture and monitor any type of traffic on a network easily.\n",
    "\n",
    "* Connect to \"container4\" using SSH, then attach to the previously created session:\n",
    "    ```bash\n",
    "    tmux attach -t [session_name]\n",
    "    ```\n",
    "    \n",
    "    \n",
    "* In one pane, start packet capturing with tcpdump and dump the captured packets to a file:\n",
    "    ```bash\n",
    "    sudo tcpdump -i eth0  -w work_dir/container4.pcap\n",
    "    ```\n",
    "\n",
    "\n",
    "* Switch to the other pane `Ctrl+b arrow key`, ping and traceroute \"container3\" using IPv4 and IPv6 addresses.\n",
    "    ```bash\n",
    "    ping 10.20.30.12\n",
    "    ping -6 fd00::12\n",
    "    traceroute 10.20.30.12\n",
    "    ```\n",
    "    > _Note: Make sure you don't copy the entire block of commands into the terminal, rather copy each one individually._\n",
    "\n",
    "    > _We highly recommend getting comfortable using tmux, as it will be worth the time you spent learning it. \n",
    "    Otherwise, you can just open multiple SSH connections._\n",
    "\n",
    "* Stop the tcpdump capturing and copy the capture file to your host machine. \n",
    "You can use [scp](https://haydenjames.io/linux-securely-copy-files-using-scp/) (<https://haydenjames.io/linux-securely-copy-files-using-scp/>), for example, use this command in your **VM**:\n",
    "    ```bash\n",
    "    scp -P 4000 ttm4200@127.0.0.1:~/work_dir/container4.pcap ./\n",
    "    ```\n",
    "\n",
    "    > _Since the \"ttm4200\\_base\" directory is mounted on \"container4\" in 'work\\_dir', any file saved to the \"work\\_dir\" inside the container, will be directly saved to the \"ttm4200\\_base\" folder. \n",
    "    However, pay attention to the file permission._\n",
    "\n",
    "* Using the docker-compose file, stop and remove the containers, as well as the network. \n",
    "You can do so with only one command:\n",
    "\n",
    "    ```bash\n",
    "    docker-compose down\n",
    "    ```"
   ]
  },
  {
   "cell_type": "code",
   "execution_count": null,
   "id": "fb799be0-fbc2-46b2-a3ed-40d934676991",
   "metadata": {},
   "outputs": [],
   "source": [
    "check_progress.test_3_2()"
   ]
  },
  {
   "cell_type": "markdown",
   "id": "43048671-6dde-48d5-8c08-b5f5dbb94cac",
   "metadata": {
    "tags": []
   },
   "source": [
    "# Milestone 4: Analyzing Packet Captures\n",
    "\n",
    "The goal of this milestone is to learn how to analyze network traffic and extract relevant information. \n",
    "You will use [Wireshark](https://www.wireshark.org/docs/wsug_html_chunked/index.html), which is a free and open-source packet analyzer. \n",
    "You can refer to the course's book in \"Chapter 1: Wireshark Lab\" (also Wireshark Lab: Getting Started).\n",
    "\n",
    "* Open the file \"container4.pcap\" using Wireshark: `wireshark container4.pcap`.\n",
    "\n",
    ">_Since Wireshark is a graphical application, you can not open it in the remote VM._ \n",
    ">\n",
    ">_Copy the file \"container4.pcap\" to your local computer and open it using Wireshark.\n",
    "> From the local computer copy the file using the command `scp ntnu_server:</path/to/container4.pcap> </path/to/local/file>`._\n",
    "\n",
    "\n",
    "|<img src=\"figures/wireshark.jpg\" width=\"800\" height=\"800\" />|\n",
    "|:--:| \n",
    "| *Figure 4: Wireshark main Window* |\n",
    "\n",
    " \n",
    "* In the  \"Filter\" toolbar, apply the `ssh` display filter to show only SSH packets.\n",
    "\n",
    "* From \"Packet List\" pane, select one packet. \n",
    "Then inspect its details in the \"Packet Details\" pane. \n",
    "Notice the protocol layering and encapsulation. \n"
   ]
  },
  {
   "cell_type": "markdown",
   "id": "cbcd6629-c3f5-4d4d-bb73-0c2a7e4bd2ad",
   "metadata": {},
   "source": [
    "## 4.1 Application-layer message\n",
    "\n",
    "* In the \"Packet Details\" pane, expand the \"SSH Protocol\" field. \n",
    "Notice that you cannot read the content of the message (encrypted packet). \n",
    "This message is passed to the transport layer.\n",
    "    * What is the packet number (packet ordinals in the capture file) of the selected packet?"
   ]
  },
  {
   "cell_type": "code",
   "execution_count": null,
   "id": "c65c358d-13e6-4206-ac0d-406ce420a7da",
   "metadata": {},
   "outputs": [],
   "source": [
    "# What is the packet number (packet ordinals in the capture file) of the selected packet?\n",
    "packet_number =  #your answer (as an integer)\n",
    "\n",
    "check_progress.test_4_1(packet_number)"
   ]
  },
  {
   "cell_type": "markdown",
   "id": "95fdfbac-5307-418a-a5f8-7fcba6b069b5",
   "metadata": {},
   "source": [
    "## 4.2 Transport-layer segment\n",
    "\n",
    "* The transport layer segment encapsulates the application-layer message by appending \"transport-layer header information\" such as port numbers and checksum. \n",
    "In the \"Packet Details\" pane, expand the \"Transmission Control Protocol\" field, then answer the following questions about some of the added information. \n",
    "You can copy the answer directly from Wireshark (right-click on a field $\\rightarrow$ copy $\\rightarrow$ value).\n",
    "    * What is the source port of the selected packet?\n",
    "    * What is the destination port?\n",
    "    * What is the value of the checksum (error-detection bits)?"
   ]
  },
  {
   "cell_type": "code",
   "execution_count": null,
   "id": "a9d155ce-1dac-4fe9-8079-a94ed940c7cc",
   "metadata": {},
   "outputs": [],
   "source": [
    "# What is the source port of the selected packet?\n",
    "source_port =  #your answer (as an integer)\n",
    "\n",
    "# What is the destination port?\n",
    "destination_port =  #your answer (as an integer)\n",
    "\n",
    "# What is the value of the checksum (error-detection bits)?\n",
    "checksum =  #your answer (either in hexadecimal or decimal)\n",
    "\n",
    "check_progress.test_4_2(packet_number, source_port, destination_port, checksum) "
   ]
  },
  {
   "cell_type": "markdown",
   "id": "a32ba0ff-5c10-41cd-9e90-df78913e7210",
   "metadata": {},
   "source": [
    "## 4.3 Network-layer datagram\n",
    "\n",
    "* The network-layer datagram encapsulates the transport-layer segment by appending \"network-layer header information\", such as source and destination IP addresses. \n",
    "In the \"Packet Details\" pane, expand the \"Internet Protocol\" field, then answer the following questions:\n",
    "    * What is the source IP address of the selected packet?\n",
    "    * What is the destination IP address?\n",
    "    * What is the datagram length?"
   ]
  },
  {
   "cell_type": "code",
   "execution_count": null,
   "id": "54c25466-a499-4114-a1f2-777794435950",
   "metadata": {},
   "outputs": [],
   "source": [
    "# What is the source IP address of the selected packet?\n",
    "source_ip =   #your answer (as a string)\n",
    "\n",
    "# What is the destination IP address?\n",
    "destination_ip =  #your answer (as a string)\n",
    "\n",
    "# What is the datagram length?\n",
    "datagram_length =  #your answer (as an integer of bytes)\n",
    "\n",
    "check_progress.test_4_3(packet_number, source_ip, destination_ip, datagram_length)"
   ]
  },
  {
   "cell_type": "markdown",
   "id": "52692af0-5258-4e69-a0cd-d41974be87b9",
   "metadata": {
    "tags": []
   },
   "source": [
    "## 4.4 Link-layer frame\n",
    "\n",
    "* The link-layer frame encapsulates the network-layer datagram by appending  \"link-layer header information\". \n",
    "In the \"Packet Details\" pane, expand the \"Ethernet II\" and \"Frame\" fields, then answer the following questions:\n",
    "    * What is the source MAC address of the selected packet?\n",
    "    * What is the destination MAC address?\n",
    "    * What is the frame length?"
   ]
  },
  {
   "cell_type": "code",
   "execution_count": null,
   "id": "001a32de-df1e-4a9a-9a0e-7a2c8ff6bbd5",
   "metadata": {},
   "outputs": [],
   "source": [
    "# What is the source MAC address of the selectedd packet?\n",
    "source_mac =  #your answer (as a string)\n",
    "\n",
    "# What is the destination MAC address?\n",
    "destination_mac =  #your answer (as a string)\n",
    "\n",
    "# What is the frame length?\n",
    "frame_length =  #your answer (as an integer of bytes)\n",
    "\n",
    "\n",
    "check_progress.test_4_4(packet_number, source_mac, destination_mac, frame_length)"
   ]
  },
  {
   "cell_type": "markdown",
   "id": "5ec63d70-85b4-48e9-b102-b74fc948e65f",
   "metadata": {},
   "source": [
    "## Optional: SSH/SCP proxyjump\n",
    "\n",
    "Throughout the course, we will use Wireshark extensively. \n",
    "Most of the capture files are done in the containers, and you may want to open them in your local machine. \n",
    "However, you need to first copy the file from the container to the VM, then from the VM to your local machine. \n",
    "This is a bit cumbersome, and you can make it easier by using proxyjump.\n",
    "\n",
    "```bash\n",
    "scp -J ntnu_server ttm4200@container_ip:~/work_dir/pcap_file ./pcap_file\n",
    "```\n",
    "\n",
    "But you need to add \"ttm4200_vm_key\" to the local machine:\n",
    "\n",
    "```bash\n",
    "scp ntun_server:~/.ssh/ttm4200_vm_key ~/.ssh/ttm4200_vm_key\n",
    "```\n",
    "\n",
    "Then, add the following to `~/.ssh/config`\n",
    "\n",
    "```bash\n",
    "Host 10.*\n",
    "    User ttm4200\n",
    "    IdentityFile ~/.ssh/ttm4200_vm_key\n",
    "```"
   ]
  }
 ],
 "metadata": {
  "kernelspec": {
   "display_name": "Python 3 (ipykernel)",
   "language": "python",
   "name": "python3"
  },
  "language_info": {
   "codemirror_mode": {
    "name": "ipython",
    "version": 3
   },
   "file_extension": ".py",
   "mimetype": "text/x-python",
   "name": "python",
   "nbconvert_exporter": "python",
   "pygments_lexer": "ipython3",
   "version": "3.10.6"
  }
 },
 "nbformat": 4,
 "nbformat_minor": 5
}
