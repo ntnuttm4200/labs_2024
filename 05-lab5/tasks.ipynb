{
 "cells": [
  {
   "cell_type": "markdown",
   "id": "a1ed6692",
   "metadata": {},
   "source": [
    "# Lab 5 -- Network Layer\n",
    "\n",
    "## Introduction\n",
    "\n",
    "This lab aims to introduce you to the network layer of the Internet protocol suite. \n",
    "In particular, you will set up and analyze a routing protocol, Network Address Translation (NAT), and Dynamic Host Configuration Protocol (DHCP).\n",
    "\n",
    "For the second delivery (lab 4 and lab5) submit a PDF report where you answer **only** those questions marked with a **REPORT:**."
   ]
  },
  {
   "cell_type": "markdown",
   "id": "590021b9",
   "metadata": {},
   "source": [
    "## Lab Setup\n",
    "\n",
    "[Figure 1](#figure_1) shows the setup for this lab. \n",
    "It is an extension to lab2, but the servers now have public IP addresses and two other private networks. \n",
    "Your job is to configure a routing protocol in the routers to have full connectivity between the networks and to set up NAT to access the servers from the private networks. \n",
    "Additionally, you will set up DHCP to dynamically assign IP addresses to clients in private networks.\n",
    "\n",
    "\n",
    "\n",
    "<a id='figure_1'></a>\n",
    "\n",
    "|<img src=\"figures/lab5.png\" />|\n",
    "|:--:| \n",
    "| *Figure 1: Lab5 Setup* |\n",
    "\n",
    "\n",
    "> Read the \"docker-compose.yml\" file to understand the setup. \n",
    "   \n",
    "\n",
    "- **Stop and remove the containers** from the previous lab, if any, before starting this lab.\n",
    "You can use the `docker-compose down` command or `docker stop` and `docker remove` (revisit the previous labs if needed).\n",
    "\n",
    "   <div style=\"background: #f8f8f8; overflow:auto;width:auto;border:solid gray;border-width:.1em .1em .1em .8em;padding:.2em .6em;\"><pre style=\"margin: 0; line-height: 125%;color: black;\">cd ~/labs/04-lab4<br>docker-compose down<br><br>cd ~/labs/05-lab5<br>docker-compose up -d --build</pre></div>"
   ]
  },
  {
   "cell_type": "markdown",
   "id": "37be58c6",
   "metadata": {},
   "source": [
    "- The servers are already configured, so you don't need to do anything with them. \n",
    "\n",
    "\n",
    "- To save your configuration in the routers, run the script: <code>sudo sh ~/work_dir/save.sh</code> inside the corresponding container."
   ]
  },
  {
   "cell_type": "code",
   "execution_count": null,
   "id": "58bdafe0",
   "metadata": {},
   "outputs": [],
   "source": [
    "from test_lab5 import TestLab5\n",
    "check_progress = TestLab5()"
   ]
  },
  {
   "cell_type": "markdown",
   "id": "35527885",
   "metadata": {},
   "source": [
    "# Milestone 1 -- Network Addressing and Routing\n",
    "\n",
    "## Background\n",
    "\n",
    "In this milestone, you will learn how to set up a routing protocol. \n",
    "The IP addresses have already been set for simplicity, but the routers only know the directly connected networks. \n",
    "Thus they can not forward packets to non-directly connected networks.\n",
    "\n",
    "- Check the routing table in the routers (__router0__, __router1__, __router2__, and __router3__) and try to understand every line in the output based on [figure 1](#figure_1)."
   ]
  },
  {
   "cell_type": "markdown",
   "id": "b5289b6e",
   "metadata": {},
   "source": [
    "\n",
    "<div style=\"background: #f8f8f8; overflow:auto;width:auto;border:solid gray;border-width:.1em .1em .1em .8em;padding:.2em .6em;\"><pre style=\"margin: 0; line-height: 125%;color: black;\">\n",
    "ip route show \n",
    "</pre></div>\n"
   ]
  },
  {
   "cell_type": "markdown",
   "id": "1c9f4217",
   "metadata": {},
   "source": [
    "<div class=\"alert alert-block alert-info\">\n",
    "<b>Note:</b> If you are connecting to the containers with <code style=\"color: black;\">docker attach</code>, do not forget to detach with <code style=\"color: black;\">Ctrl+p</code> and <code style=\"color: black;\">Ctrl+q</code>.\n",
    "If you type <code style=\"color: black;\">exit</code>, you will stop (\"kill\") the container. </div>\n",
    "\n",
    "- You can try pinging the Webserver from __\"router1\"__ container. Do you get any response?"
   ]
  },
  {
   "cell_type": "markdown",
   "id": "8e33dffa",
   "metadata": {},
   "source": [
    "\n",
    "<div style=\"background: #f8f8f8; overflow:auto;width:auto;border:solid gray;border-width:.1em .1em .1em .8em;padding:.2em .6em;\"><pre style=\"margin: 0; line-height: 125%;color: black;\">\n",
    "ping 129.100.1.3\n",
    "</pre></div>"
   ]
  },
  {
   "cell_type": "markdown",
   "id": "26e744b6",
   "metadata": {},
   "source": [
    "To have connectivity, you need to update the routing tables with the correct paths to forward packets. \n",
    "You can do this using either static or dynamic routing:\n",
    "\n",
    "- In static routing, you manually enter routes in the routing table, but this can be a daunting task, especially in larger networks.\n",
    "\n",
    "- In dynamic routing, you configure a routing protocol instructing routers to exchange information with other routers, then automatically learn routes and update the routing table.\n",
    "  - In distance-vector protocols (RIP, EIGRP, BGP ... etc.), routers describe available paths (i.e., routes) to their neighbors.\n",
    "  - In link-state protocols (OSPF, IS-IS, ... etc.), routers describe the state of their links to all other routers.\n",
    "    \n",
    "In this lab., we will use OSPF as an example, but using any other routing protocol is straightforward. [OSPF](https://en.wikipedia.org/wiki/Open_Shortest_Path_First) is a link-state routing protocol in which routers describe their link-state in a message called link-state advertisement (LSA). \n",
    "Then each router constructs a topology map of the network and calculates the shortest path using [Dijkstra's algorithm](https://en.wikipedia.org/wiki/Dijkstra%27s_algorithm)\n",
    "\n",
    "One open-source routing software is [FRR (Free Range Routing)](https://frrouting.org/). FRR uses the Linux kernel’s routing stack for packet forwarding and implements the most commonly used protocols, such as OSPF, RIP, BGP, IS-IS, and IGRP. FRR is already installed on the routers, and the OSPF daemon is enabled by default.\n",
    "\n",
    "\n",
    "## Task 1.1 -- Configure OSPF\n",
    "\n",
    "A nice feature of FRR is that it provides an interactive shell (`vtysh`) with CLI similar to Cisco IOS commands. There are different [modes](https://www.cisco.com/E-Learning/bulk/public/tac/cim/cib/using_cisco_ios_software/02_cisco_ios_hierarchy.htm) to the CLI, and certain commands are only available within a specific mode. Here is an example of how to configure OSPF on **\"router0\"**:\n",
    "\n",
    "\n",
    "* Start the CLI by running <code>vtysh</code>. This will take you to the __EXEC mode__ (notice the change in the prompt).\n",
    "* Check FRR routing table: <code>show ip route</code>. You will see only directly connected routes.\n",
    "\n",
    "* Enter the __configuration mode__: <code>configure terminal</code> (notice the change in the prompt). This will allow you to modify the running system configuration.\n",
    "\n",
    "* Enable OSPF routing protocol: <code>router ospf</code> (notice the change in the prompt). This will take you to  __routing configuration mode__.\n",
    "\n",
    "* Tell OSPF which interfaces to include in its link-state advertisement (LSA). \n",
    "You only need to specify the network address, then OSPF checks which interfaces are part of this network and include them in its LSA.\n",
    "Additionally, you need to specify the area:\n",
    "\n",
    "  <div style=\"background: #f8f8f8; overflow:auto;width:auto;border:solid gray;border-width:.1em .1em .1em .8em;padding:.2em .6em;\"><pre style=\"margin: 0; line-height: 125%;color: black;\"><span style=\"color: #408080; font-style: italic\">#   On the &quot;router0&quot; container:</span><br>network 129.100.1.0/29 area 0 <span style=\"color: #408080; font-style: italic\"># ttm4200_public_net</span><br>network 129.168.1.24/29 area 0  <span style=\"color: #408080; font-style: italic\"># link3</span><br>network 129.168.1.0/29 area 0 <span style=\"color: #408080; font-style: italic\"># link0</span>\n",
    "</pre></div>\n",
    "\n",
    "<div class=\"alert alert-block alert-info\">\n",
    "    <b>Note:</b> OSPF divides the network into routing areas to simplify administration and optimize traffic and resource utilization. For simplicity, you only use one area in this lab.\n",
    "</div>"
   ]
  },
  {
   "cell_type": "markdown",
   "id": "b51ad230",
   "metadata": {},
   "source": [
    "    \n",
    "* Exit __configuration mode__ by entering `end` or `CTRL+Z`. This will bring you back to the __EXEC mode__. Enter `exit` if you want to return to the Linux terminal.\n",
    "\n",
    "\n",
    "__Your task now is to configure OSPF on the other routers: \"router1\", \"router2\", and \"router3\". However, do not include the private networks (10.20.40.0/24, 10.20.50.0/24) in the link-state advertisement.__\n",
    "\n",
    "\n",
    "<div class=\"alert alert-block alert-info\">\n",
    "<b>Tip:</b> If you by mistake included the private networks in the link-state advertisement, you could get rid of them by using, for example, <code style=\"color: black;\">no network 10.20.40.0/24 area 0</code> in the <b>routing configuration mode</b>. </div>\n",
    "\n",
    "\n",
    "\n",
    "\n",
    "   \n",
    "* Ping the Webserver from __\"router1\"__ container and ensure you can connect to it."
   ]
  },
  {
   "cell_type": "code",
   "execution_count": null,
   "id": "d175d6c6",
   "metadata": {},
   "outputs": [],
   "source": [
    "check_progress.test_1_1()"
   ]
  },
  {
   "cell_type": "markdown",
   "id": "2446ca5f",
   "metadata": {},
   "source": [
    "## Task 1.2 -- Route-Costs\n",
    "\n",
    "\n",
    "* In __\"router1\"__, start CLI and check the FRR routing table:"
   ]
  },
  {
   "cell_type": "markdown",
   "id": "36dd44e3",
   "metadata": {},
   "source": [
    "  <div style=\"background: #f8f8f8; overflow:auto;width:auto;border:solid gray;border-width:.1em .1em .1em .8em;padding:.2em .6em;\"><pre style=\"margin: 0; line-height: 125%; color: black;\">\n",
    "  vtysh \n",
    "  show ip route\n",
    "</pre></div>"
   ]
  },
  {
   "cell_type": "markdown",
   "id": "a2c9a7d1",
   "metadata": {},
   "source": [
    "* Check the route towards 129.100.1.0/29, and answer the following:\n",
    "  * Via which interfaces does the route passes?\n",
    "  * What is the route cost?"
   ]
  },
  {
   "cell_type": "code",
   "execution_count": null,
   "id": "2c512625",
   "metadata": {},
   "outputs": [],
   "source": [
    "# Via which interfaces does the route passes?\n",
    "route_interface =  #your answer as a string: \"ether1\" or \"ether2\"\n",
    "\n",
    "# What is the route cost?\n",
    "route_cost =  # You answer as integer\n",
    "\n",
    "check_progress.test_1_2(route_interface, route_cost)"
   ]
  },
  {
   "cell_type": "markdown",
   "id": "9c6695a4",
   "metadata": {},
   "source": [
    "<div class=\"alert alert-block alert-info\">\n",
    "<b>Hint:</b> We set the Individual link cost to 100. FRR displays the information Administrative distance/Route Cost in each entry of its routing table. \n",
    "The <a href=\"https://docs.frrouting.org/en/latest/zebra.html#administrative-distance\" target=\"_blank\">administrative distance</a> allows FRR to decide what routes should be installed in the Linux kernel based upon the originating protocol. \n",
    "OSPF has an administrative distance of 110. </div>\n",
    "\n"
   ]
  },
  {
   "cell_type": "markdown",
   "id": "593733fb",
   "metadata": {},
   "source": [
    "## Task 1.3 -- Link Failure\n",
    "\n",
    "* In __\"router0\"__, bring down the interface \"ether2\":"
   ]
  },
  {
   "cell_type": "markdown",
   "id": "e92310a6",
   "metadata": {},
   "source": [
    "\n",
    "<div style=\"background: #f8f8f8; overflow:auto;width:auto;border:solid gray;border-width:.1em .1em .1em .8em;padding:.2em .6em;\"><pre style=\"margin: 0; line-height: 125%; color: black;\">\n",
    "  sudo ip link set ether2 down \n",
    "</pre></div>\n"
   ]
  },
  {
   "cell_type": "markdown",
   "id": "f69178cf",
   "metadata": {},
   "source": [
    "* In __\"router1\"__, re-check the FRR routing table again and focus on the route towards 129.100.1.0/29, then answer the following:    \n",
    "  * Via which interfaces does the route passes after the link failure?\n",
    "  * What is the route cost after the link failure?"
   ]
  },
  {
   "cell_type": "code",
   "execution_count": null,
   "id": "0c1481b4",
   "metadata": {},
   "outputs": [],
   "source": [
    "# Via which interfaces does the route passes after the link failure?\n",
    "route_interface_after_link_failure =  #your answer as a string: \"ether1\" or \"ether2\"\n",
    "\n",
    "# What is the route cost after the link failure?\n",
    "route_cost_after_link_failure =  # Your answer as integer\n",
    "\n",
    "check_progress.test_1_3(route_interface_after_link_failure, route_cost_after_link_failure)"
   ]
  },
  {
   "cell_type": "markdown",
   "id": "b42d5ecb",
   "metadata": {},
   "source": [
    " \n",
    " OSPF uses Dijkstra's algorithm to calculate the shortest path between nodes in a network, considering the link costs.\n",
    "  All OSPF routers store information about the network topology in a Link-State Database (LSDB).\n",
    "  Hello OSPF packets are used to test reachability between neighbours, while OSPF uses Link State Advertisements (LSAs) to describe the network topology.\n",
    "  In the case of a link failure:\n",
    "  - LSA are propagated through the network and routers update their LSDB;\n",
    "  - Using Dijkstra's algorithm OSPF routers recalculate the shortest path finding alternative paths to reach destinations affected by the link failure.\n",
    " \n",
    "  <span style=\"font-size: 25px;\">Q1. </span> **REPORT:** Based on [Figure 1](#figure_1) and the screenshots from Wireshark, show how OSPF works in the case of link failures.\n",
    "  You can show this by highlighting the Hello and LS Update/Acknowledgement packets in screenshots from Wireshark.\n",
    "\n",
    "\n",
    "<div class=\"alert alert-block alert-info\">\n",
    "<b>Hint:</b> To capture these packets, you can bring down/up a link <code style=\"color: black;\">sudo ip link set [interface_name] down/up</code> </div>\n",
    "\n",
    "\n",
    "## Optional Task 1.4 -- Another Routing Protocol\n",
    "\n",
    "* Configure other routing protocols, such as RIP, EIGRP, IS-IS, or BGP. For example, to configure RIP on \"router0\":\n",
    "  *  Enable the RIP daemon in \"/etc/frr/daemons\" by replacing \"ripd=no\" to \"ripd=yes\". Since OSPF has a lower administrative distance than RIP, you need to disable it. Otherwise, OSPF routes will take precedence.\n",
    "  * Restart FRR: <code>sudo service frr restart</code>.\n",
    "  * Configure RIP using the VTY shell:"
   ]
  },
  {
   "cell_type": "markdown",
   "id": "0b4b89d5",
   "metadata": {},
   "source": [
    "\n",
    "<div style=\"background: #f8f8f8; overflow:auto;width:auto;border:solid gray;border-width:.1em .1em .1em .8em;padding:.2em .6em;\"><pre style=\"margin: 0; line-height: 125%;color: black;\"><span style=\"color: #408080; font-style: italic\">#   On the &quot;router0&quot; container:</span>\n",
    "vtysh\n",
    "configure terminal\n",
    "router rip\n",
    "network 129.100.1.0/29\n",
    "network 129.168.1.24/29\n",
    "network 129.168.1.0/29\n",
    "end\n",
    "exit\n",
    "</pre></div>\n"
   ]
  },
  {
   "cell_type": "markdown",
   "id": "68fdcc1f",
   "metadata": {},
   "source": [
    "# Milestone 2 -- Network Address Translation (NAT)\n",
    "\n",
    "* In __\"router0\"__, bring down the interface \"ether2\", if you have set it up when answering Q1."
   ]
  },
  {
   "cell_type": "markdown",
   "id": "cfdce060",
   "metadata": {},
   "source": [
    "<div style=\"background: #f8f8f8; overflow:auto;width:auto;border:solid gray;border-width:.1em .1em .1em .8em;padding:.2em .6em;\"><pre style=\"margin: 0; line-height: 125%;color: black;\">\n",
    "sudo ip link set ether2 down\n",
    "</pre></div>\n"
   ]
  },
  {
   "cell_type": "markdown",
   "id": "ab3be3e3",
   "metadata": {},
   "source": [
    "* After setting up the routing protocol, you can connect to the webserver from __\"router1\"__, and you can retrieve the HTML page:"
   ]
  },
  {
   "cell_type": "markdown",
   "id": "339b92fe",
   "metadata": {},
   "source": [
    "<div style=\"background: #f8f8f8; overflow:auto;width:auto;border:solid gray;border-width:.1em .1em .1em .8em;padding:.2em .6em;\"><pre style=\"margin: 0; line-height: 125%;color: black;\">\n",
    "wget http://129.100.1.3 --header \"Host: www.ttm4200.com\"\n",
    "</pre></div>\n"
   ]
  },
  {
   "cell_type": "markdown",
   "id": "af6d40a8",
   "metadata": {},
   "source": [
    "* However, you can not retrieve the webserver HTML page from  __\"pclient1\"__.\n",
    "\n",
    " <span style=\"font-size: 25px;\">Q2. </span> **REPORT:** Briefly explain why you cannot connect to the webserver from  __\"pclient1\"__. \n",
    " Find out where the packets get dropped and support your claim with screenshots from tcpdump.\n",
    "\n",
    "<div class=\"alert alert-block alert-info\">\n",
    "<b>Hint:</b> You can use <code style=\"color: black;\">tcpdump</code> to print packets directly on a network interface in the terminal. \n",
    "For example, you can run this command <code style=\"color: black;\">sudo tcpdump port 80 -i [interface_name] --immediate-mode -nn</code> on different routers to check if packets arrive at that interface (refer back to <a href=\"#figure_1\">[Figure 1]</a>). Then, you can enter the http get command in \"pclient1\": <code style=\"color: black;\">wget http://129.100.1.3 --header \"Host: www.ttm4200.com\"</code>.\n",
    "\n",
    "There can be a delay between starting <code style=\"color: black;\">tcpdump</code> and printing packets in the terminal.</div>\n",
    "\n",
    "\n",
    "<div class=\"alert alert-block alert-info\">\n",
    "<b>Hint:</b> Linux Kernel enables, by default, the Reverse Path Filtering, which tests each incoming packet against the routing table and drops the packet if the <b>source</b> address is not routable through any interface. \n",
    "This security feature prevents <a href=\"https://en.wikipedia.org/wiki/IP_address_spoofing\" target=\"_blank\">IP Address Spoofing</a>.</div>\n",
    "\n",
    "\n",
    "\n",
    "\n",
    "__Optional__: if you are interested, you can read more about it <a href=\"https://www.theurbanpenguin.com/rp_filter-and-lpic-3-linux-security/\" target=\"_blank\">here</a>. \n",
    "\n",
    "__Optional__: if you are also interested, you can disable the Reverse Path Filtering and see the resulting behavior (in your \"ntnu_server\" <code>sudo sysctl -w net.ipv4.conf.default.rp_filter=0</code>, end then rebuild your containers).\n",
    "\n",
    "\n",
    "\n",
    "## Task 2.1 -- NAT Setup\n",
    "\n",
    "\n",
    "After figuring out the previous problem's cause, you will solve it using [NAT](https://en.wikipedia.org/wiki/Network_address_translation). \n",
    "You can use [_nftables_](https://en.wikipedia.org/wiki/Nftables), a subsystem of the Linux kernel that provides packet filtering and NAT.\n",
    "\n",
    "\n",
    "* In the containers __\"router1\"__ and __\"router2\"__, activate [IP Masquerading](https://tldp.org/HOWTO/IP-Masquerade-HOWTO/ipmasq-background2.5.html) to enable NAT/Masquerading for the private networks \"private_net1\" and \"private_net2\":"
   ]
  },
  {
   "cell_type": "markdown",
   "id": "303c2a69",
   "metadata": {},
   "source": [
    "\n",
    "<div style=\"background: #f8f8f8; overflow:auto;width:auto;border:solid gray;border-width:.1em .1em .1em .8em;padding:.2em .6em;\"><pre style=\"margin: 0; line-height: 125%;color: black;\">\n",
    "sudo nft add table ip nat\n",
    "sudo nft 'add chain ip nat POSTROUTING { type nat hook postrouting priority 100; }'\n",
    "sudo nft add rule ip nat POSTROUTING oifname \"ether1\" masquerade\n",
    "</pre></div>\n"
   ]
  },
  {
   "cell_type": "markdown",
   "id": "70bc6ee1",
   "metadata": {},
   "source": [
    "<div class=\"alert alert-block alert-info\">\n",
    "<b>Note:</b> You will use nftables in the next lab to configure firewall rules and packet filtering. \n",
    "Thus, it can be helpful to read more about nftables, e.g., <a href=\"https://wiki.nftables.org/wiki-nftables/index.php/Main_Page\" target=\"_blank\">[HOWTO documentation page]</a>.</div>\n",
    "\n",
    "* Validate the NAT setup by ensuring that you can connect to the webserver from __\"pclient1\"__ and __\"pclient2\"__:"
   ]
  },
  {
   "cell_type": "markdown",
   "id": "b648e0c2",
   "metadata": {},
   "source": [
    "\n",
    "<div style=\"background: #f8f8f8; overflow:auto;width:auto;border:solid gray;border-width:.1em .1em .1em .8em;padding:.2em .6em;\"><pre style=\"margin: 0; line-height: 125%;color: black;\">\n",
    "ping 129.100.1.3\n",
    "wget http://129.100.1.3 --header \"Host: www.ttm4200.com\"\n",
    "</pre></div>"
   ]
  },
  {
   "cell_type": "markdown",
   "id": "e2d7f98b",
   "metadata": {},
   "source": [
    "- To avoid typing the username and the keyname while connecting to the __\"webserver\"__ container, you can add the `129.*` to the Host part of the `~/.ssh/config` file in your ntnu_server (Virtual Machine):\n",
    "\n",
    "<div style=\"background: #f8f8f8; overflow:auto;width:auto;border:solid gray;border-width:.1em .1em .1em .8em;padding:.2em .6em;\"><pre style=\"margin: 0; line-height: 125%;color: black;\">\n",
    "Host  10.* 127.* 129.*\n",
    "    User ttm4200\n",
    "    IdentityFile ~/.ssh/ttm4200_vm_key\n",
    "</pre></div><br>\n",
    "\n",
    "\n",
    "This will allow you to connect to the container with `ssh <ip_address>`."
   ]
  },
  {
   "cell_type": "markdown",
   "id": "897bcb60",
   "metadata": {},
   "source": [
    "* Start a packet capture with <code>tcpdump</code> on your __\"pclient1\"__ and __\"webserver\"__, and save the capture to a file (e.g. \"pclient1.pcap\" and \"webserver.pcap\").\n",
    "\n",
    "* In the __\"pclient1\"__ container, retrieve the content from the webserver using:"
   ]
  },
  {
   "cell_type": "markdown",
   "id": "3d445ed9",
   "metadata": {},
   "source": [
    "\n",
    "<div style=\"background: #f8f8f8; overflow:auto;width:auto;border:solid gray;border-width:.1em .1em .1em .8em;padding:.2em .6em;\"><pre style=\"margin: 0; line-height: 125%;color: black;\">\n",
    "wget http://129.100.1.3 --header \"Host: www.ttm4200.com\"\n",
    "</pre></div>\n"
   ]
  },
  {
   "cell_type": "markdown",
   "id": "a9e425ae",
   "metadata": {},
   "source": [
    "* Stop `tcpdump` capturing at __\"pclient1\"__ and __\"webserver\"__, and copy the capture files to your \"ntnu_server\" inside the 05-lab5 folder."
   ]
  },
  {
   "cell_type": "code",
   "execution_count": null,
   "id": "5c98d721",
   "metadata": {},
   "outputs": [],
   "source": [
    "check_progress.test_2_1()"
   ]
  },
  {
   "cell_type": "markdown",
   "id": "cc667026",
   "metadata": {},
   "source": [
    "## Task 2.2 -- Analyzing Packets From The Client Perspective (Behind NAT)\n",
    "\n",
    "Open the \"pclient1.pcap\" file in Wireshark. Apply the display filter `http`to show only HTTP packets, then answer the following questions:\n",
    "\n",
    "* Find the HTTP GET sent from the client to the webserver. \n",
    "What are the source and destination IP addresses and TCP source and destination ports on the IP datagram carrying this HTTP GET?\n",
    "\n",
    "\n",
    "* Find the corresponding 200 OK HTTP message received from the webserver. \n",
    "What are the source and destination IP addresses and TCP source and destination ports on the IP datagram carrying this HTTP 200 OK message?"
   ]
  },
  {
   "cell_type": "code",
   "execution_count": null,
   "id": "a6e123b8",
   "metadata": {},
   "outputs": [],
   "source": [
    "# Find the HTTP GET sent from the client to the webserver. \n",
    "#What are the source and destination IP addresses and TCP source and destination ports on the IP datagram carrying this HTTP GET?\n",
    "HTTP_GET_packet_number_behind_nat =  #Your answer (an integer)\n",
    "HTTP_GET_source_IP_behind_nat =  #You answer (in a string)\n",
    "HTTP_GET_source_port_behind_nat =  #Your answer (an integer)\n",
    "HTTP_GET_destination_IP_behind_nat =  #You answer (in a string)\n",
    "HTTP_GET_destination_port_behind_nat =   #Your answer (an integer)\n",
    "\n",
    "# Find the corresponding 200 OK HTTP message received from the webserver. \n",
    "# What are the source and destination IP addresses and TCP source and destination ports on the IP datagram carrying this HTTP 200 OK message?\n",
    "HTTP_response_packet_number_behind_nat =  #Your answer (an integer)\n",
    "HTTP_response_source_IP_behind_nat =  #You answer (in a string)\n",
    "HTTP_response_source_port_behind_nat =  #Your answer (an integer)\n",
    "HTTP_response_destination_IP_behind_nat =  #You answer (in a string)\n",
    "HTTP_response_destination_port_behind_nat =  #Your answer (an integer)\n",
    "\n",
    "check_progress.test_2_2(HTTP_GET_packet_number_behind_nat,\n",
    "                        HTTP_GET_source_IP_behind_nat,\n",
    "                        HTTP_GET_source_port_behind_nat,\n",
    "                        HTTP_GET_destination_IP_behind_nat,\n",
    "                        HTTP_GET_destination_port_behind_nat,\n",
    "                        HTTP_response_packet_number_behind_nat,\n",
    "                        HTTP_response_source_IP_behind_nat,\n",
    "                        HTTP_response_source_port_behind_nat,\n",
    "                        HTTP_response_destination_IP_behind_nat,\n",
    "                        HTTP_response_destination_port_behind_nat)"
   ]
  },
  {
   "cell_type": "markdown",
   "id": "963b0849",
   "metadata": {},
   "source": [
    "## Task 2.3 -- Analyzing Packets From The Webserver Perspective (After NAT)\n",
    "\n",
    "\n",
    "\n",
    "Open the \"webserver.pcap\" file in Wireshark, apply the display filter `http`. Then answer these questions:\n",
    "\n",
    "* Find the HTTP GET message sent from the client to the webserver. What are the source and destination IP addresses and TCP source and destination ports on the IP datagram carrying this HTTP GET?\n",
    "\n",
    "<div class=\"alert alert-block alert-info\">\n",
    "    <b>Self-Check:</b> Which of these fields are the same, and which are different, compared to HTTP GET behind NAT? Why?\n",
    "</div>\n",
    "\n",
    "* Compared to HTTP GET behind NAT, Which of the following fields in the IP datagram carrying the HTTP GET are changed: Version, Header Length, Flags, Checksum?\n",
    "\n",
    "<span style=\"font-size: 25px;\">Q3. </span> **REPORT:** Briefly explain why (Version, Header Length, Flags, or Checksum) field has changed. Give two reasons.\n",
    "\n",
    "* Find the 200 OK HTTP message. What are the source and destination IP addresses and TCP source and destination ports on the IP datagram carrying this HTTP 200 OK message?\n",
    "\n",
    "<div class=\"alert alert-block alert-info\">\n",
    "    <b>Self-Check:</b> Which of these fields are the same, and which are different, compared to the 200 OK HTTP message behind NAT? Why?\n",
    "</div>"
   ]
  },
  {
   "cell_type": "code",
   "execution_count": null,
   "id": "17b9601d",
   "metadata": {},
   "outputs": [],
   "source": [
    "# Find the HTTP GET message sent from the client to the webserver. \n",
    "# What are the source and destination IP addresses and TCP source and destination ports on the IP datagram carrying this HTTP GET?\n",
    "HTTP_GET_packet_number_after_nat =  #Your answer (an integer)\n",
    "HTTP_GET_source_IP_after_nat =  #You answer (in a string)\n",
    "HTTP_GET_source_port_after_nat =  #Your answer (an integer)\n",
    "HTTP_GET_destination_IP_after_nat =  #You answer (in a string)\n",
    "HTTP_GET_destination_port_after_nat =  #Your answer (an integer)\n",
    "\n",
    "#Find the 200 OK HTTP message. What are the source and destination IP addresses and TCP source and \n",
    "#destination ports on the IP datagram carrying this HTTP 200 OK message?\n",
    "HTTP_response_packet_number_after_nat =  #Your answer (an integer)\n",
    "HTTP_response_source_IP_after_nat =  #You answer (in a string)\n",
    "HTTP_response_source_port_after_nat =  #Your answer (an integer)\n",
    "HTTP_response_destination_IP_after_nat =  #You answer (in a string)\n",
    "HTTP_response_destination_port_after_nat =  #Your answer (an integer)\n",
    "\n",
    "check_progress.test_2_3(HTTP_GET_packet_number_after_nat,\n",
    "                        HTTP_GET_source_IP_after_nat,\n",
    "                        HTTP_GET_source_port_after_nat,\n",
    "                        HTTP_GET_destination_IP_after_nat,\n",
    "                        HTTP_GET_destination_port_after_nat,\n",
    "                        HTTP_response_packet_number_after_nat,\n",
    "                        HTTP_response_source_IP_after_nat,\n",
    "                        HTTP_response_source_port_after_nat,\n",
    "                        HTTP_response_destination_IP_after_nat,\n",
    "                        HTTP_response_destination_port_after_nat)"
   ]
  },
  {
   "cell_type": "markdown",
   "id": "cb2ec66d",
   "metadata": {},
   "source": [
    "# Milestone 3 -- Dynamic Host Configuration Protocol (DHCP)\n",
    "\n",
    "## Task 3.1 -- DHCP Setup\n",
    "\n",
    "In this section, you will set up a DHCP server and a client.\n",
    "We will use [ISC DHCP](https://www.isc.org/dhcp/), which offers an open-source DHCP server and client implementation. \n",
    "You will set up an authoritative DHCP server for the local network \"private_net2\" (see figure 1).\n",
    "The server-side, _isc-dhcp-server_ is already installed in __\"router2\"__, but you need to configure it.\n",
    "You can read this [article](https://en.wikiversity.org/wiki/Configure_ISC-DHCP_server) on configuring an ISC-DHCP server.\n",
    "\n",
    "* Configure the DHCP server's properties in the \"/etc/dhcp/dhcpd.conf\" file. \n",
    "You can use the following template, complete the missing parts that are marked with `===fill_here===`:\n",
    "\n",
    "```r\n",
    "#declare this DHCP server as authoritative\n",
    "===fill_here===;\n",
    "\n",
    "#specify a subnet and its netmask\n",
    "subnet ===fill_here=== netmask ===fill_here=== {\n",
    "\n",
    "   #specify a range of addresses the server can offer\n",
    "   #(exclude the router IP from this range)\n",
    "   range ===fill_here=== ===fill_here=== ;\n",
    "\n",
    "   option domain-name-servers 129.100.1.2; \n",
    "   option domain-name \"ttm4200.com\";\n",
    "   option routers 10.20.50.100;\n",
    "}\n",
    "default-lease-time 600;\n",
    "max-lease-time 7200;\n",
    "```"
   ]
  },
  {
   "cell_type": "markdown",
   "id": "742dcd6b",
   "metadata": {},
   "source": [
    "<div class=\"alert alert-block alert-info\">\n",
    "<b>Tip:</b> In the sample configuration available in the ISC-DHCP server configuration file, you can uncomment the authoritative directive command and edit the \"configuration for an internal subnet\" and edit it to match the template. You can also comment (with #) all the uncommented lines found in the sample configuration. </div>\n"
   ]
  },
  {
   "cell_type": "markdown",
   "id": "cc8ce9cb",
   "metadata": {},
   "source": [
    "* Activate DHCP on the interface \"ether0\" by editing the \"/etc/default/isc-dhcp-server\" configuration file (comment \"INTERFACESv6\").\n",
    "\n",
    "```r\n",
    "INTERFACESv4=\"ether0\"\n",
    "#INTERFACESv6=\"\"\n",
    "```"
   ]
  },
  {
   "cell_type": "markdown",
   "id": "a6355b7a",
   "metadata": {},
   "source": [
    "* Check the syntax of the server configuration file for any errors: \n",
    "\n",
    "<div style=\"background: #f8f8f8; overflow:auto;width:auto;border:solid gray;border-width:.1em .1em .1em .8em;padding:.2em .6em;\"><pre style=\"margin: 0; line-height: 125%;color: black;\">\n",
    "dhcpd -t\n",
    "</pre></div>\n"
   ]
  },
  {
   "cell_type": "markdown",
   "id": "3c884a5b",
   "metadata": {},
   "source": [
    "* Restart the dhcp server:"
   ]
  },
  {
   "cell_type": "markdown",
   "id": "4a9cec11",
   "metadata": {},
   "source": [
    "\n",
    "<div style=\"background: #f8f8f8; overflow:auto;width:auto;border:solid gray;border-width:.1em .1em .1em .8em;padding:.2em .6em;\"><pre style=\"margin: 0; line-height: 125%;color: black;\">\n",
    "sudo service isc-dhcp-server restart\n",
    "</pre></div>"
   ]
  },
  {
   "cell_type": "markdown",
   "id": "6c0a1739",
   "metadata": {},
   "source": [
    "* Start packet capturing in __\"router2\"__ on \"ether0\" interface:"
   ]
  },
  {
   "cell_type": "markdown",
   "id": "11ae5b11",
   "metadata": {},
   "source": [
    "\n",
    "<div style=\"background: #f8f8f8; overflow:auto;width:auto;border:solid gray;border-width:.1em .1em .1em .8em;padding:.2em .6em;\"><pre style=\"margin: 0; line-height: 125%;color: black;\">\n",
    "sudo tcpdump -i ether0 -w dhcp.pcap\n",
    "</pre></div>\n"
   ]
  },
  {
   "cell_type": "markdown",
   "id": "bfab51a5",
   "metadata": {},
   "source": [
    "* On the client-side, [_dhclient_](https://linux.die.net/man/8/dhclient) is already installed in __\"pclient2\"__. \n",
    "You will use this client for retrieving a DHCP lease.\n",
    "\n",
    "* In __\"pclient2\"__, release any existing DHCP client lease:"
   ]
  },
  {
   "cell_type": "markdown",
   "id": "e7ebf7f6",
   "metadata": {},
   "source": [
    "\n",
    "<div style=\"background: #f8f8f8; overflow:auto;width:auto;border:solid gray;border-width:.1em .1em .1em .8em;padding:.2em .6em;\"><pre style=\"margin: 0; line-height: 125%;color: black;\">\n",
    "sudo dhclient -r -v\n",
    "</pre></div>\n"
   ]
  },
  {
   "cell_type": "markdown",
   "id": "bd3d6d6f",
   "metadata": {},
   "source": [
    "* Request a new IP address from a DHCP server:"
   ]
  },
  {
   "cell_type": "markdown",
   "id": "d3c77fb1",
   "metadata": {},
   "source": [
    "\n",
    "<div style=\"background: #f8f8f8; overflow:auto;width:auto;border:solid gray;border-width:.1em .1em .1em .8em;padding:.2em .6em;\"><pre style=\"margin: 0; line-height: 125%;color: black;\">\n",
    "sudo dhclient -v\n",
    "</pre></div>"
   ]
  },
  {
   "cell_type": "markdown",
   "id": "b932cd39",
   "metadata": {},
   "source": [
    "* Then, __again__, release the lease.\n",
    "\n",
    "\n",
    "<div class=\"alert alert-block alert-warning\">\n",
    "<b>Warning:</b> You might lose SSH connection to \"pclient2\". \n",
    "You can reconnect using <code style=\"color: black;\">docker attach pclient</code>. \n",
    "Ignore the error message \"System has not been booted with systemd as init system (PID 1). Can't operate.\". \n",
    "This message is systemd-related because we are running Linux in a container, <a href=\"https://stackoverflow.com/questions/39169403/systemd-and-systemctl-within-ubuntu-docker-images#answer-39169889\" target=\"_blank\">for more information</a>. </div>\n",
    "\n",
    "\n",
    "* Stop the packet capture and copy the capture file to your \"ntnu_server\", inside the 05-lab5 folder.\n",
    "\n",
    "\n",
    "## Task 3.2 -- Analyzing DHCP Packets\n",
    "\n",
    "Open the capture file \"dhcp.pcap\" in Wireshark and display only DHCP frames (apply the display filter `dhcp` ). Then answer the following questions:\n",
    "\n",
    "* What is the packet number (packet ordinals in the capture file) of the four DHCP messages (Discover, Offer, Request, and ACK)?\n",
    "\n",
    "* Are DHCP messages sent over UDP or TCP? \n",
    "\n",
    "* What is the value of the Transaction-ID in each of the four (Discover/Offer/Request/ACK) DHCP messages?  \n",
    " \n",
    "\n",
    "* What are the source and destination IP addresses for each of the four DHCP messages (Discover/Offer/Request/ACK DHCP)? \n",
    "\n",
    "<span style=\"font-size: 25px;\">Q4. </span> **REPORT:** Based on your reading of the textbook (pages 371--374), are the source and destination IP addresses of the four DHCP messages what you expected? Briefly explain why?\n",
    "\n",
    "* What is the router and subnetmask in the DHCP offer message? \n",
    "\n",
    "* How long is the IP address lease time?\n",
    "\n",
    "* Does the DHCP server acknowledge the DHCP release message?"
   ]
  },
  {
   "cell_type": "code",
   "execution_count": null,
   "id": "33d84dfa",
   "metadata": {},
   "outputs": [],
   "source": [
    "# What is the packet number (packet ordinals in the capture file) of the four DHCP messages (Discover, Offer, Request, and ACK)?\n",
    "\n",
    "DHCP_Discover_packet_number =  #Your answer as integer\n",
    "DHCP_Offer_packet_number =  #Your answer as integer\n",
    "DHCP_Request_packet_number =  #Your answer as integer\n",
    "DHCP_ACK_packet_number =  #Your answer as integer\n",
    "\n",
    "# Are DHCP messages sent over UDP or TCP? \n",
    "DHCP_transport_protocol =  # your answer as a string of \"UDP\" or \"TCP\"\n",
    "\n",
    "# What is the value of the Transaction-ID in each of the four (Discover/Offer/Request/ACK) DHCP messages?\n",
    "Transaction_ID =  #You answer as an integer (decimal or hexadecimal preceded with 0x)\n",
    "\n",
    "\n",
    "# What are the source and destination IP addresses for each of the four DHCP messages (Discover/Offer/Request/ACK DHCP)? \n",
    "DHCP_Discover_source_IP =  #Your answer as a string of IP address\n",
    "DHCP_Discover_destination_IP =  #Your answer as a string of IP address\n",
    "DHCP_Offer_source_IP =  #Your answer as a string of IP address\n",
    "DHCP_Offer_destination_IP =  #Your answer as a string of IP address\n",
    "DHCP_Request_source_IP =  #Your answer as a string of IP address\n",
    "DHCP_Request_destination_IP =  #Your answer as a string of IP address\n",
    "DHCP_ACK_source_IP =  #Your answer as a string of IP address\n",
    "DHCP_ACK_destination_IP =  #Your answer as a string of IP address\n",
    "\n",
    "\n",
    "# What is the router and subnetmask in the DHCP offer message? \n",
    "DHCP_Offer_router =  #Your answer as a string of IP address\n",
    "DHCP_Offer_subnetmask =  #Your answer as a string of subnet mask\n",
    "\n",
    "# How long is the IP address lease time (in seconds)?\n",
    "IP_lease_time =  #Your answer as integer \n",
    "\n",
    "# Does the DHCP server acknowledge the DHCP release message?\n",
    "server_acknowledge_release_message =  # Your answer as a boolean (True or False)\n",
    "\n",
    "check_progress.test_3_1(DHCP_Discover_packet_number,\n",
    "                        DHCP_Offer_packet_number,\n",
    "                        DHCP_Request_packet_number,\n",
    "                        DHCP_ACK_packet_number,\n",
    "                        DHCP_transport_protocol,\n",
    "                        Transaction_ID,\n",
    "                        DHCP_Discover_source_IP,\n",
    "                        DHCP_Discover_destination_IP,\n",
    "                        DHCP_Offer_source_IP,\n",
    "                        DHCP_Offer_destination_IP,\n",
    "                        DHCP_Request_source_IP,\n",
    "                        DHCP_Request_destination_IP,\n",
    "                        DHCP_ACK_source_IP,\n",
    "                        DHCP_ACK_destination_IP,\n",
    "                        DHCP_Offer_router,\n",
    "                        DHCP_Offer_subnetmask,\n",
    "                        IP_lease_time,\n",
    "                        server_acknowledge_release_message)"
   ]
  }
 ],
 "metadata": {
  "kernelspec": {
   "display_name": "Python 3 (ipykernel)",
   "language": "python",
   "name": "python3"
  },
  "language_info": {
   "codemirror_mode": {
    "name": "ipython",
    "version": 3
   },
   "file_extension": ".py",
   "mimetype": "text/x-python",
   "name": "python",
   "nbconvert_exporter": "python",
   "pygments_lexer": "ipython3",
   "version": "3.10.12"
  }
 },
 "nbformat": 4,
 "nbformat_minor": 5
}
